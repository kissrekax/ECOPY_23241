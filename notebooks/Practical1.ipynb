{
 "cells": [
  {
   "cell_type": "markdown",
   "source": [
    "# Lista feladatok"
   ],
   "metadata": {
    "collapsed": false
   },
   "id": "bfa98d17c32c9644"
  },
  {
   "cell_type": "code",
   "execution_count": null,
   "outputs": [],
   "source": [
    "# 1., Hozzon létre egy listát a következő elemekkel a Subscript operátor segítségével: 17, 18, 3.14, a, alma"
   ],
   "metadata": {
    "collapsed": false
   },
   "id": "initial_id"
  },
  {
   "cell_type": "code",
   "execution_count": 99,
   "outputs": [
    {
     "name": "stdout",
     "output_type": "stream",
     "text": [
      "[17, 18, 3.14, 'a', 'alma']\n"
     ]
    }
   ],
   "source": [
    "list_1=[17, 18, 3.14, \"a\", \"alma\"]\n",
    "print(list_1)"
   ],
   "metadata": {
    "collapsed": false,
    "ExecuteTime": {
     "end_time": "2023-09-19T22:39:45.771052Z",
     "start_time": "2023-09-19T22:39:45.732721200Z"
    }
   },
   "id": "9e6bb1295f6a1c41"
  },
  {
   "cell_type": "code",
   "execution_count": 100,
   "outputs": [],
   "source": [
    "# 2., Hozzon létre egy listát a list() függvény alkalmazásával: 1, 2, 3, 4, 5, 6, 7, 8, 9, 10"
   ],
   "metadata": {
    "collapsed": false,
    "ExecuteTime": {
     "end_time": "2023-09-19T22:39:47.969977800Z",
     "start_time": "2023-09-19T22:39:47.917654Z"
    }
   },
   "id": "1a0427c3806a075e"
  },
  {
   "cell_type": "code",
   "execution_count": 16,
   "outputs": [
    {
     "name": "stdout",
     "output_type": "stream",
     "text": [
      "[1, 2, 3, 4, 5, 6, 7, 8, 9, 10]\n"
     ]
    }
   ],
   "source": [
    "my_list=list(range(1,11))\n",
    "print(my_list)"
   ],
   "metadata": {
    "collapsed": false,
    "ExecuteTime": {
     "end_time": "2023-09-20T16:22:45.500679700Z",
     "start_time": "2023-09-20T16:22:45.478794500Z"
    }
   },
   "id": "af29f62bec3fe845"
  },
  {
   "cell_type": "code",
   "execution_count": 102,
   "outputs": [],
   "source": [
    "# 3., Adja vissza a lista 1. indexén lévő elemét"
   ],
   "metadata": {
    "collapsed": false,
    "ExecuteTime": {
     "end_time": "2023-09-19T22:39:52.193593700Z",
     "start_time": "2023-09-19T22:39:52.153252300Z"
    }
   },
   "id": "87a48bdd04adc666"
  },
  {
   "cell_type": "code",
   "execution_count": 103,
   "outputs": [
    {
     "data": {
      "text/plain": "2"
     },
     "execution_count": 103,
     "metadata": {},
     "output_type": "execute_result"
    }
   ],
   "source": [
    "my_list[1]"
   ],
   "metadata": {
    "collapsed": false,
    "ExecuteTime": {
     "end_time": "2023-09-19T22:39:53.075041900Z",
     "start_time": "2023-09-19T22:39:53.036803Z"
    }
   },
   "id": "f7b55ce66eaa1477"
  },
  {
   "cell_type": "code",
   "execution_count": 104,
   "outputs": [],
   "source": [
    "# 4., Adja vissza a lista 1 elemét"
   ],
   "metadata": {
    "collapsed": false,
    "ExecuteTime": {
     "end_time": "2023-09-19T22:39:54.985587700Z",
     "start_time": "2023-09-19T22:39:54.944506300Z"
    }
   },
   "id": "cb4dee7d4c8dae1c"
  },
  {
   "cell_type": "code",
   "execution_count": 105,
   "outputs": [
    {
     "data": {
      "text/plain": "1"
     },
     "execution_count": 105,
     "metadata": {},
     "output_type": "execute_result"
    }
   ],
   "source": [
    "my_list[0]"
   ],
   "metadata": {
    "collapsed": false,
    "ExecuteTime": {
     "end_time": "2023-09-19T22:39:56.079888400Z",
     "start_time": "2023-09-19T22:39:56.033667600Z"
    }
   },
   "id": "b1682229162f49ec"
  },
  {
   "cell_type": "code",
   "execution_count": 106,
   "outputs": [],
   "source": [
    "# 5., Adja vissza a lista legnagyobb elemét"
   ],
   "metadata": {
    "collapsed": false,
    "ExecuteTime": {
     "end_time": "2023-09-19T22:39:57.835251500Z",
     "start_time": "2023-09-19T22:39:57.778038700Z"
    }
   },
   "id": "c988bd6fd6137bd1"
  },
  {
   "cell_type": "code",
   "execution_count": 107,
   "outputs": [
    {
     "data": {
      "text/plain": "10"
     },
     "execution_count": 107,
     "metadata": {},
     "output_type": "execute_result"
    }
   ],
   "source": [
    "max(my_list)"
   ],
   "metadata": {
    "collapsed": false,
    "ExecuteTime": {
     "end_time": "2023-09-19T22:39:59.328978500Z",
     "start_time": "2023-09-19T22:39:59.204267300Z"
    }
   },
   "id": "2c94a4cc8ec5936d"
  },
  {
   "cell_type": "code",
   "execution_count": 108,
   "outputs": [],
   "source": [
    "# 6. Adja vissza a lista legnagyobb elemének az indexét"
   ],
   "metadata": {
    "collapsed": false,
    "ExecuteTime": {
     "end_time": "2023-09-19T22:40:01.307350Z",
     "start_time": "2023-09-19T22:40:01.251188100Z"
    }
   },
   "id": "f2d0f6303be357d0"
  },
  {
   "cell_type": "code",
   "execution_count": 109,
   "outputs": [
    {
     "data": {
      "text/plain": "9"
     },
     "execution_count": 109,
     "metadata": {},
     "output_type": "execute_result"
    }
   ],
   "source": [
    "my_list.index(max(my_list))"
   ],
   "metadata": {
    "collapsed": false,
    "ExecuteTime": {
     "end_time": "2023-09-19T22:40:03.196298300Z",
     "start_time": "2023-09-19T22:40:03.140787200Z"
    }
   },
   "id": "d3c2f3d961fd0a72"
  },
  {
   "cell_type": "code",
   "execution_count": 110,
   "outputs": [],
   "source": [
    "# 7., Írjon egy függvényt ami megvizsgálja, hogy a listában létezik-e egy adott elem\n",
    "# függvény név: contains_value\n",
    "# bemeneti paraméterek: input_list, element \n",
    "# kimeneti típus: bool "
   ],
   "metadata": {
    "collapsed": false,
    "ExecuteTime": {
     "end_time": "2023-09-19T22:40:05.479272600Z",
     "start_time": "2023-09-19T22:40:05.435353500Z"
    }
   },
   "id": "75d189cb06cb410"
  },
  {
   "cell_type": "code",
   "execution_count": 111,
   "outputs": [
    {
     "data": {
      "text/plain": "True"
     },
     "execution_count": 111,
     "metadata": {},
     "output_type": "execute_result"
    }
   ],
   "source": [
    "def contains_value(input_list, element):\n",
    "    return element in input_list"
   ],
   "metadata": {
    "collapsed": false,
    "ExecuteTime": {
     "end_time": "2023-09-19T22:40:06.376665100Z",
     "start_time": "2023-09-19T22:40:06.303898200Z"
    }
   },
   "id": "2874f3f5f7334f7a"
  },
  {
   "cell_type": "code",
   "execution_count": 112,
   "outputs": [
    {
     "data": {
      "text/plain": "True"
     },
     "execution_count": 112,
     "metadata": {},
     "output_type": "execute_result"
    }
   ],
   "source": [
    "contains_value(my_list,4)"
   ],
   "metadata": {
    "collapsed": false,
    "ExecuteTime": {
     "end_time": "2023-09-19T22:40:23.684175800Z",
     "start_time": "2023-09-19T22:40:23.605561200Z"
    }
   },
   "id": "a1550da6b798fb6d"
  },
  {
   "cell_type": "code",
   "execution_count": 113,
   "outputs": [],
   "source": [
    "# 8., Írjon egy függvényt ami megvizsgálja, hogy hány elem található a listában.\n",
    "# függvény név: number_of_elements_in_list\n",
    "# bemeneti paraméterek: input_list \n",
    "# kimeneti típus: int "
   ],
   "metadata": {
    "collapsed": false,
    "ExecuteTime": {
     "end_time": "2023-09-19T22:40:26.234953700Z",
     "start_time": "2023-09-19T22:40:26.193235700Z"
    }
   },
   "id": "4ff7a5a8e77c3570"
  },
  {
   "cell_type": "code",
   "execution_count": 114,
   "outputs": [],
   "source": [
    "def number_of_elements_in_list(input_list):\n",
    "    elemszam=len(input_list)\n",
    "    return elemszam"
   ],
   "metadata": {
    "collapsed": false,
    "ExecuteTime": {
     "end_time": "2023-09-19T22:40:29.380875700Z",
     "start_time": "2023-09-19T22:40:29.329643400Z"
    }
   },
   "id": "9c77237804758b96"
  },
  {
   "cell_type": "code",
   "execution_count": 115,
   "outputs": [
    {
     "data": {
      "text/plain": "int"
     },
     "execution_count": 115,
     "metadata": {},
     "output_type": "execute_result"
    }
   ],
   "source": [
    "a=number_of_elements_in_list(my_list)\n",
    "type(a)"
   ],
   "metadata": {
    "collapsed": false,
    "ExecuteTime": {
     "end_time": "2023-09-19T22:40:30.249364500Z",
     "start_time": "2023-09-19T22:40:30.102728900Z"
    }
   },
   "id": "bed569e50734a02c"
  },
  {
   "cell_type": "code",
   "execution_count": 116,
   "outputs": [],
   "source": [
    "# 9., Írjon egy függvényt ami törli az összes elemet a listából\n",
    "# függvény név: remove_every_element_from_list\n",
    "# bemeneti paraméterek: input_list \n",
    "# kimeneti típus: None "
   ],
   "metadata": {
    "collapsed": false,
    "ExecuteTime": {
     "end_time": "2023-09-19T22:40:32.538621400Z",
     "start_time": "2023-09-19T22:40:32.504732200Z"
    }
   },
   "id": "e00fdbc3454b3e0"
  },
  {
   "cell_type": "code",
   "execution_count": 117,
   "outputs": [],
   "source": [
    "def remove_every_element_from_list(input_list):\n",
    "    input_list.clear()"
   ],
   "metadata": {
    "collapsed": false,
    "ExecuteTime": {
     "end_time": "2023-09-19T22:40:33.435431Z",
     "start_time": "2023-09-19T22:40:33.373084500Z"
    }
   },
   "id": "86ea2864ab680a75"
  },
  {
   "cell_type": "code",
   "execution_count": 118,
   "outputs": [],
   "source": [
    "remove_every_element_from_list(my_list)"
   ],
   "metadata": {
    "collapsed": false,
    "ExecuteTime": {
     "end_time": "2023-09-19T22:40:34.597087500Z",
     "start_time": "2023-09-19T22:40:34.532228300Z"
    }
   },
   "id": "fd4fb9107a1c62e6"
  },
  {
   "cell_type": "code",
   "execution_count": 124,
   "outputs": [],
   "source": [
    "# 10., Írjon egy függvényt ami fordított sorrendben adja vissza a lista összes elemét\n",
    "# függvény név: reverse_list\n",
    "# bemeneti paraméterek: input_list \n",
    "# kimeneti típus: List "
   ],
   "metadata": {
    "collapsed": false,
    "ExecuteTime": {
     "end_time": "2023-09-19T22:41:12.857622900Z",
     "start_time": "2023-09-19T22:41:12.813295200Z"
    }
   },
   "id": "4b93b2aa868093d7"
  },
  {
   "cell_type": "code",
   "execution_count": 125,
   "outputs": [],
   "source": [
    "def reverse_list(input_list):\n",
    "    reversed_list = input_list[::-1]\n",
    "    return reversed_list"
   ],
   "metadata": {
    "collapsed": false,
    "ExecuteTime": {
     "end_time": "2023-09-19T22:41:13.837216900Z",
     "start_time": "2023-09-19T22:41:13.727879200Z"
    }
   },
   "id": "b3573ccabce315f6"
  },
  {
   "cell_type": "code",
   "execution_count": 126,
   "outputs": [
    {
     "data": {
      "text/plain": "[10, 9, 8, 7, 6, 5, 4, 3, 2, 1]"
     },
     "execution_count": 126,
     "metadata": {},
     "output_type": "execute_result"
    }
   ],
   "source": [
    "reverse_list(my_list)"
   ],
   "metadata": {
    "collapsed": false,
    "ExecuteTime": {
     "end_time": "2023-09-19T22:41:19.792683300Z",
     "start_time": "2023-09-19T22:41:19.695679600Z"
    }
   },
   "id": "793b21ca395bae46"
  },
  {
   "cell_type": "code",
   "execution_count": 127,
   "outputs": [],
   "source": [
    "# 11., Írjon egy függvényt ami vissza adja a bemeneti lista páratlan elemeit\n",
    "# függvény név: odds_from_list\n",
    "# bemeneti paraméterek: input_list \n",
    "# kimeneti típus: List "
   ],
   "metadata": {
    "collapsed": false,
    "ExecuteTime": {
     "end_time": "2023-09-19T22:41:26.920491300Z",
     "start_time": "2023-09-19T22:41:26.877228400Z"
    }
   },
   "id": "fd4a515bb1e95737"
  },
  {
   "cell_type": "code",
   "execution_count": 128,
   "outputs": [],
   "source": [
    "def odds_from_list(input_list):\n",
    "    odd_elements = [x for x in input_list if x % 2 != 0]\n",
    "    return odd_elements"
   ],
   "metadata": {
    "collapsed": false,
    "ExecuteTime": {
     "end_time": "2023-09-19T22:41:32.822831300Z",
     "start_time": "2023-09-19T22:41:32.788727800Z"
    }
   },
   "id": "57a11fda6b893fe3"
  },
  {
   "cell_type": "code",
   "execution_count": 129,
   "outputs": [
    {
     "data": {
      "text/plain": "[1, 3, 5, 7, 9]"
     },
     "execution_count": 129,
     "metadata": {},
     "output_type": "execute_result"
    }
   ],
   "source": [
    "odds_from_list(my_list)"
   ],
   "metadata": {
    "collapsed": false,
    "ExecuteTime": {
     "end_time": "2023-09-19T22:41:33.822467500Z",
     "start_time": "2023-09-19T22:41:33.766586800Z"
    }
   },
   "id": "9f20b2394c40484b"
  },
  {
   "cell_type": "code",
   "execution_count": 130,
   "outputs": [],
   "source": [
    "# 12., Írjon egy függvényt ami megszámolja a bemeneti lista páratlan elemeit\n",
    "# függvény név: number_of_odds_in_list\n",
    "# bemeneti paraméterek: input_list \n",
    "# kimeneti típus: int "
   ],
   "metadata": {
    "collapsed": false,
    "ExecuteTime": {
     "end_time": "2023-09-19T22:41:34.895879Z",
     "start_time": "2023-09-19T22:41:34.863675800Z"
    }
   },
   "id": "28290ea181d27115"
  },
  {
   "cell_type": "code",
   "execution_count": 131,
   "outputs": [],
   "source": [
    "def number_of_odds_in_list(input_list):\n",
    "    c_odd_elements = len([x for x in input_list if x % 2 != 0])\n",
    "    return c_odd_elements"
   ],
   "metadata": {
    "collapsed": false,
    "ExecuteTime": {
     "end_time": "2023-09-19T22:41:36.406019200Z",
     "start_time": "2023-09-19T22:41:36.350165700Z"
    }
   },
   "id": "279b237c1175983"
  },
  {
   "cell_type": "code",
   "execution_count": 132,
   "outputs": [
    {
     "data": {
      "text/plain": "5"
     },
     "execution_count": 132,
     "metadata": {},
     "output_type": "execute_result"
    }
   ],
   "source": [
    "number_of_odds_in_list(my_list)"
   ],
   "metadata": {
    "collapsed": false,
    "ExecuteTime": {
     "end_time": "2023-09-19T22:41:37.220588300Z",
     "start_time": "2023-09-19T22:41:37.078160100Z"
    }
   },
   "id": "9cf78a5e1fa0aa59"
  },
  {
   "cell_type": "code",
   "execution_count": 133,
   "outputs": [],
   "source": [
    "# 13., Írjon egy függvényt ami visszaadja, hogy a bemeneti listának van-e páratlan eleme\n",
    "# függvény név: contains_odd\n",
    "# bemeneti paraméterek: input_list \n",
    "# kimeneti típus: bool "
   ],
   "metadata": {
    "collapsed": false,
    "ExecuteTime": {
     "end_time": "2023-09-19T22:41:38.329791700Z",
     "start_time": "2023-09-19T22:41:38.297889500Z"
    }
   },
   "id": "337fe85c1df2c4d4"
  },
  {
   "cell_type": "code",
   "execution_count": 134,
   "outputs": [],
   "source": [
    "def contains_odd(input_list):\n",
    "    for element in input_list:\n",
    "        if element%2!=0:\n",
    "            return True\n",
    "        return False"
   ],
   "metadata": {
    "collapsed": false,
    "ExecuteTime": {
     "end_time": "2023-09-19T22:41:39.508300500Z",
     "start_time": "2023-09-19T22:41:39.460639800Z"
    }
   },
   "id": "a0fc68adef56fd06"
  },
  {
   "cell_type": "code",
   "execution_count": 135,
   "outputs": [
    {
     "data": {
      "text/plain": "True"
     },
     "execution_count": 135,
     "metadata": {},
     "output_type": "execute_result"
    }
   ],
   "source": [
    "contains_odd(my_list)"
   ],
   "metadata": {
    "collapsed": false,
    "ExecuteTime": {
     "end_time": "2023-09-19T22:41:41.064777600Z",
     "start_time": "2023-09-19T22:41:41.005551400Z"
    }
   },
   "id": "aef3c724f03cb646"
  },
  {
   "cell_type": "code",
   "execution_count": 136,
   "outputs": [],
   "source": [
    "# 14., Írjon egy függvényt ami visszaadja a 2. legnagyobb elemet listában \n",
    "# függvény név: second_largest_in_list\n",
    "# bemeneti paraméterek: input_list \n",
    "# kimeneti típus: int "
   ],
   "metadata": {
    "collapsed": false,
    "ExecuteTime": {
     "end_time": "2023-09-19T22:41:41.986825900Z",
     "start_time": "2023-09-19T22:41:41.907513300Z"
    }
   },
   "id": "fb1703151c29792"
  },
  {
   "cell_type": "code",
   "execution_count": 137,
   "outputs": [],
   "source": [
    "def second_largest_in_list(input_list):\n",
    "    s=sorted(set(input_list))\n",
    "    return s[-2]"
   ],
   "metadata": {
    "collapsed": false,
    "ExecuteTime": {
     "end_time": "2023-09-19T22:41:44.125007100Z",
     "start_time": "2023-09-19T22:41:44.079356100Z"
    }
   },
   "id": "15ed7bf088bf47cf"
  },
  {
   "cell_type": "code",
   "execution_count": 138,
   "outputs": [],
   "source": [
    "s_1=second_largest_in_list(my_list)"
   ],
   "metadata": {
    "collapsed": false,
    "ExecuteTime": {
     "end_time": "2023-09-19T22:41:45.895089400Z",
     "start_time": "2023-09-19T22:41:45.839096200Z"
    }
   },
   "id": "496288a1070b52d6"
  },
  {
   "cell_type": "code",
   "execution_count": 139,
   "outputs": [],
   "source": [
    "# 15., Írjon egy függvényt ami kiszámítja a lista elemek összegét \n",
    "# függvény név: sum_of_elements_in_list\n",
    "# bemeneti paraméterek: input_list \n",
    "# kimeneti típus: float "
   ],
   "metadata": {
    "collapsed": false,
    "ExecuteTime": {
     "end_time": "2023-09-19T22:41:46.824816400Z",
     "start_time": "2023-09-19T22:41:46.784353900Z"
    }
   },
   "id": "63ccbb5d3bb44ccd"
  },
  {
   "cell_type": "code",
   "execution_count": 140,
   "outputs": [],
   "source": [
    "def sum_of_elements_in_list(input_list):\n",
    "    result = sum(input_list)\n",
    "    return float(result)"
   ],
   "metadata": {
    "collapsed": false,
    "ExecuteTime": {
     "end_time": "2023-09-19T22:41:49.657328800Z",
     "start_time": "2023-09-19T22:41:49.598754900Z"
    }
   },
   "id": "24c9f32b0be09452"
  },
  {
   "cell_type": "code",
   "execution_count": 141,
   "outputs": [
    {
     "data": {
      "text/plain": "55.0"
     },
     "execution_count": 141,
     "metadata": {},
     "output_type": "execute_result"
    }
   ],
   "source": [
    "sum_of_elements_in_list(my_list)"
   ],
   "metadata": {
    "collapsed": false,
    "ExecuteTime": {
     "end_time": "2023-09-19T22:41:51.048775100Z",
     "start_time": "2023-09-19T22:41:50.972676300Z"
    }
   },
   "id": "4f4d84e216c131b7"
  },
  {
   "cell_type": "code",
   "execution_count": 142,
   "outputs": [],
   "source": [
    "# 16., Írjon egy függvényt ami kiszámítja a lista elemek kumulált összegét\n",
    "# függvény név: cumsum_list\n",
    "# bemeneti paraméterek: input_list \n",
    "# kimeneti típus: List "
   ],
   "metadata": {
    "collapsed": false,
    "ExecuteTime": {
     "end_time": "2023-09-19T22:41:52.616909300Z",
     "start_time": "2023-09-19T22:41:52.568372800Z"
    }
   },
   "id": "783928cacc8f343e"
  },
  {
   "cell_type": "code",
   "execution_count": 143,
   "outputs": [],
   "source": [
    "def cumsum_list(input_list):\n",
    "    cumsum = []\n",
    "    total = 0\n",
    "    for element in input_list:\n",
    "        total += element\n",
    "        cumsum.append(total)\n",
    "    return cumsum\n"
   ],
   "metadata": {
    "collapsed": false,
    "ExecuteTime": {
     "end_time": "2023-09-19T22:41:54.173908100Z",
     "start_time": "2023-09-19T22:41:54.133434Z"
    }
   },
   "id": "82eb965beced99b4"
  },
  {
   "cell_type": "code",
   "execution_count": 144,
   "outputs": [
    {
     "data": {
      "text/plain": "[1, 3, 6, 10, 15, 21, 28, 36, 45, 55]"
     },
     "execution_count": 144,
     "metadata": {},
     "output_type": "execute_result"
    }
   ],
   "source": [
    "cumsum_list(my_list)"
   ],
   "metadata": {
    "collapsed": false,
    "ExecuteTime": {
     "end_time": "2023-09-19T22:41:55.011388800Z",
     "start_time": "2023-09-19T22:41:54.980133600Z"
    }
   },
   "id": "3e40d3bc6c266a25"
  },
  {
   "cell_type": "code",
   "execution_count": 145,
   "outputs": [],
   "source": [
    "# 17., Írjon egy függvényt ami kiszámítja 2 lista elemenként vett összegét\n",
    "# függvény név: element_wise_sum\n",
    "# bemeneti paraméterek: input_list1, input_list2 \n",
    "# kimeneti típus: List "
   ],
   "metadata": {
    "collapsed": false,
    "ExecuteTime": {
     "end_time": "2023-09-19T22:41:56.066885600Z",
     "start_time": "2023-09-19T22:41:55.939437300Z"
    }
   },
   "id": "1520ae4325fd9565"
  },
  {
   "cell_type": "code",
   "execution_count": 146,
   "outputs": [],
   "source": [
    "def element_wise_sum(input_list1, input_list2):\n",
    "    if len(input_list1) != len(input_list2):\n",
    "        raise ValueError(\"A bemeneti listák hossza nem egyezik meg\")\n",
    "    \n",
    "    result = [x + y for x, y in zip(input_list1, input_list2)]\n",
    "    return result\n"
   ],
   "metadata": {
    "collapsed": false,
    "ExecuteTime": {
     "end_time": "2023-09-19T22:41:58.586114800Z",
     "start_time": "2023-09-19T22:41:58.541331200Z"
    }
   },
   "id": "68f45914d66fee0f"
  },
  {
   "cell_type": "code",
   "execution_count": 147,
   "outputs": [
    {
     "data": {
      "text/plain": "[2, 4, 6, 8, 10, 12, 14, 16, 18, 20]"
     },
     "execution_count": 147,
     "metadata": {},
     "output_type": "execute_result"
    }
   ],
   "source": [
    "my_list_2=my_list\n",
    "element_wise_sum(my_list_2,my_list)"
   ],
   "metadata": {
    "collapsed": false,
    "ExecuteTime": {
     "end_time": "2023-09-19T22:41:59.770001100Z",
     "start_time": "2023-09-19T22:41:59.719793200Z"
    }
   },
   "id": "8587e0ed68288c5b"
  },
  {
   "cell_type": "code",
   "execution_count": 148,
   "outputs": [],
   "source": [
    "# 18., Írjon egy függvényt ami visszaadja egy lista, 2 tetszőleges index között vett rész listáját\n",
    "# függvény név: subset_of_list\n",
    "# bemeneti paraméterek: input_list, start_index, end_index\n",
    "# kimeneti típus: List "
   ],
   "metadata": {
    "collapsed": false,
    "ExecuteTime": {
     "end_time": "2023-09-19T22:42:01.307134800Z",
     "start_time": "2023-09-19T22:42:01.211843100Z"
    }
   },
   "id": "950494bcdf89e3d9"
  },
  {
   "cell_type": "code",
   "execution_count": 149,
   "outputs": [],
   "source": [
    "def subset_of_list(input_list, start_index, end_index):\n",
    "    subset = input_list[start_index:end_index+1]\n",
    "    return subset"
   ],
   "metadata": {
    "collapsed": false,
    "ExecuteTime": {
     "end_time": "2023-09-19T22:42:02.404886800Z",
     "start_time": "2023-09-19T22:42:02.367886400Z"
    }
   },
   "id": "720d5fe404eacb35"
  },
  {
   "cell_type": "code",
   "execution_count": 150,
   "outputs": [
    {
     "data": {
      "text/plain": "[3, 4]"
     },
     "execution_count": 150,
     "metadata": {},
     "output_type": "execute_result"
    }
   ],
   "source": [
    "subset_of_list(my_list,2,4)"
   ],
   "metadata": {
    "collapsed": false,
    "ExecuteTime": {
     "end_time": "2023-09-19T22:42:03.554474300Z",
     "start_time": "2023-09-19T22:42:03.488351400Z"
    }
   },
   "id": "2e1456a04608edeb"
  },
  {
   "cell_type": "code",
   "execution_count": 151,
   "outputs": [],
   "source": [
    "# 19., Írjon egy függvényt ami visszaadja egy lista minden n-edik elemét listaként\n",
    "# függvény név: every_nth\n",
    "# bemeneti paraméterek: input_list, step_size\n",
    "# kimeneti típus: List "
   ],
   "metadata": {
    "collapsed": false,
    "ExecuteTime": {
     "end_time": "2023-09-19T22:42:06.236371900Z",
     "start_time": "2023-09-19T22:42:06.141441300Z"
    }
   },
   "id": "b9ce22f42af9fa7c"
  },
  {
   "cell_type": "code",
   "execution_count": 152,
   "outputs": [],
   "source": [
    "def every_nth(input_list, step_size):\n",
    "    result = input_list[::step_size]\n",
    "    return result\n"
   ],
   "metadata": {
    "collapsed": false,
    "ExecuteTime": {
     "end_time": "2023-09-19T22:42:06.980160900Z",
     "start_time": "2023-09-19T22:42:06.948517Z"
    }
   },
   "id": "975736f2becc9bac"
  },
  {
   "cell_type": "code",
   "execution_count": 153,
   "outputs": [
    {
     "data": {
      "text/plain": "[1, 3, 5, 7, 9]"
     },
     "execution_count": 153,
     "metadata": {},
     "output_type": "execute_result"
    }
   ],
   "source": [
    "every_nth(my_list,2)\n",
    "my_list[::2]"
   ],
   "metadata": {
    "collapsed": false,
    "ExecuteTime": {
     "end_time": "2023-09-19T22:42:07.827309800Z",
     "start_time": "2023-09-19T22:42:07.774354900Z"
    }
   },
   "id": "357370587272fc81"
  },
  {
   "cell_type": "code",
   "execution_count": 154,
   "outputs": [],
   "source": [
    "# 20., Írjon egy függvényt ami eldönti, hogy a lista minden eleme egyedi-e\n",
    "# függvény név: only_unique_in_list\n",
    "# bemeneti paraméterek: input_list\n",
    "# kimeneti típus: bool "
   ],
   "metadata": {
    "collapsed": false,
    "ExecuteTime": {
     "end_time": "2023-09-19T22:42:08.653445500Z",
     "start_time": "2023-09-19T22:42:08.571951800Z"
    }
   },
   "id": "5816b89192f934a1"
  },
  {
   "cell_type": "code",
   "execution_count": 155,
   "outputs": [],
   "source": [
    "def only_unique_in_list(input_list):\n",
    "    # Az egyedi elemek számát hasonlítjuk össze a lista hosszával\n",
    "    return len(set(input_list)) == len(input_list)"
   ],
   "metadata": {
    "collapsed": false,
    "ExecuteTime": {
     "end_time": "2023-09-19T22:42:09.424406Z",
     "start_time": "2023-09-19T22:42:09.400150200Z"
    }
   },
   "id": "4e2768e426b188ac"
  },
  {
   "cell_type": "code",
   "execution_count": 156,
   "outputs": [
    {
     "data": {
      "text/plain": "True"
     },
     "execution_count": 156,
     "metadata": {},
     "output_type": "execute_result"
    }
   ],
   "source": [
    "only_unique_in_list(my_list)"
   ],
   "metadata": {
    "collapsed": false,
    "ExecuteTime": {
     "end_time": "2023-09-19T22:42:10.541248900Z",
     "start_time": "2023-09-19T22:42:10.508560300Z"
    }
   },
   "id": "7bca392945d6a984"
  },
  {
   "cell_type": "code",
   "execution_count": 157,
   "outputs": [],
   "source": [
    "# 21., Írjon egy függvényt amely eltávolítja a duplikált lista elemeket\n",
    "# függvény név: keep_unique\n",
    "# bemeneti paraméterek: input_list\n",
    "# kimeneti típus: List "
   ],
   "metadata": {
    "collapsed": false,
    "ExecuteTime": {
     "end_time": "2023-09-19T22:42:11.466730700Z",
     "start_time": "2023-09-19T22:42:11.399576Z"
    }
   },
   "id": "d080dd3e1679efbf"
  },
  {
   "cell_type": "code",
   "execution_count": 158,
   "outputs": [],
   "source": [
    "def keep_unique(input_list):\n",
    "    unique_list = list(set(input_list))\n",
    "    return unique_list"
   ],
   "metadata": {
    "collapsed": false,
    "ExecuteTime": {
     "end_time": "2023-09-19T22:42:12.973811600Z",
     "start_time": "2023-09-19T22:42:12.908496Z"
    }
   },
   "id": "8a5037c82a3caa8b"
  },
  {
   "cell_type": "code",
   "execution_count": 159,
   "outputs": [
    {
     "data": {
      "text/plain": "[1, 2, 3, 4, 5, 6, 7, 8, 9, 10]"
     },
     "execution_count": 159,
     "metadata": {},
     "output_type": "execute_result"
    }
   ],
   "source": [
    "keep_unique(my_list)"
   ],
   "metadata": {
    "collapsed": false,
    "ExecuteTime": {
     "end_time": "2023-09-19T22:42:13.833780500Z",
     "start_time": "2023-09-19T22:42:13.702375400Z"
    }
   },
   "id": "db73e363987f797d"
  },
  {
   "cell_type": "code",
   "execution_count": 160,
   "outputs": [],
   "source": [
    "# 22., Írjon egy függvényt amely kicserél 2 tetszőleges elemet a listában\n",
    "# függvény név: swap\n",
    "# bemeneti paraméterek: input_list, first_index, second_index\n",
    "# kimeneti típus: List "
   ],
   "metadata": {
    "collapsed": false,
    "ExecuteTime": {
     "end_time": "2023-09-19T22:42:15.438862900Z",
     "start_time": "2023-09-19T22:42:15.378230300Z"
    }
   },
   "id": "1d09675d10a71250"
  },
  {
   "cell_type": "code",
   "execution_count": 161,
   "outputs": [],
   "source": [
    "def swap(input_list, first_index, second_index):\n",
    "    \n",
    "    if first_index < 0 or first_index >= len(input_list) or second_index < 0 or second_index >= len(input_list):\n",
    "        raise ValueError(\"Az indexek érvénytelenek\")\n",
    "\n",
    "    input_list[first_index], input_list[second_index] = input_list[second_index], input_list[first_index]\n",
    "    return input_list\n"
   ],
   "metadata": {
    "collapsed": false,
    "ExecuteTime": {
     "end_time": "2023-09-19T22:42:19.517055300Z",
     "start_time": "2023-09-19T22:42:19.466170700Z"
    }
   },
   "id": "f1974f9bba783dfa"
  },
  {
   "cell_type": "code",
   "execution_count": 162,
   "outputs": [
    {
     "data": {
      "text/plain": "[1, 2, 4, 3, 5, 6, 7, 8, 9, 10]"
     },
     "execution_count": 162,
     "metadata": {},
     "output_type": "execute_result"
    }
   ],
   "source": [
    "swap(my_list,2,3)"
   ],
   "metadata": {
    "collapsed": false,
    "ExecuteTime": {
     "end_time": "2023-09-19T22:42:21.293054100Z",
     "start_time": "2023-09-19T22:42:21.229162700Z"
    }
   },
   "id": "3888481f29688d3"
  },
  {
   "cell_type": "code",
   "execution_count": null,
   "outputs": [],
   "source": [
    "# 23., Írjon egy függvényt amely töröl egy megadott elemet a listából\n",
    "# függvény név: remove_element_by_value\n",
    "# bemeneti paraméterek: input_list, value_to_remove\n",
    "# kimeneti típus: List "
   ],
   "metadata": {
    "collapsed": false
   },
   "id": "3b05357ab0198b4c"
  },
  {
   "cell_type": "code",
   "execution_count": 163,
   "outputs": [],
   "source": [
    "def remove_element_by_value(input_list, value_to_remove):\n",
    "    input_list = [x for x in input_list if x != value_to_remove]\n",
    "    return input_list\n"
   ],
   "metadata": {
    "collapsed": false,
    "ExecuteTime": {
     "end_time": "2023-09-19T22:45:18.671899800Z",
     "start_time": "2023-09-19T22:45:18.602583200Z"
    }
   },
   "id": "314e2102c6069b73"
  },
  {
   "cell_type": "code",
   "execution_count": 164,
   "outputs": [
    {
     "data": {
      "text/plain": "[1, 2, 4, 5, 6, 7, 8, 9, 10]"
     },
     "execution_count": 164,
     "metadata": {},
     "output_type": "execute_result"
    }
   ],
   "source": [
    "remove_element_by_value(my_list,3)"
   ],
   "metadata": {
    "collapsed": false,
    "ExecuteTime": {
     "end_time": "2023-09-19T22:45:47.353951900Z",
     "start_time": "2023-09-19T22:45:47.301789Z"
    }
   },
   "id": "1fba323e1abf8ad1"
  },
  {
   "cell_type": "code",
   "execution_count": null,
   "outputs": [],
   "source": [
    "# 24., Írjon egy függvényt amely töröl egy megadott indexű elemet a listából\n",
    "# függvény név: remove_element_by_index\n",
    "# bemeneti paraméterek: input_list, index\n",
    "# kimeneti típus: List "
   ],
   "metadata": {
    "collapsed": false
   },
   "id": "cfaf6d5695fb31df"
  },
  {
   "cell_type": "code",
   "execution_count": 172,
   "outputs": [],
   "source": [
    "def remove_element_by_index(input_list, index):\n",
    "    if index < 0 or index >= len(input_list):\n",
    "        raise ValueError(\"Az index érvénytelen\")\n",
    "\n",
    "    del input_list[index]\n",
    "    return input_list\n"
   ],
   "metadata": {
    "collapsed": false,
    "ExecuteTime": {
     "end_time": "2023-09-19T22:50:47.373294Z",
     "start_time": "2023-09-19T22:50:47.326468700Z"
    }
   },
   "id": "8f166f1039503820"
  },
  {
   "cell_type": "code",
   "execution_count": 173,
   "outputs": [
    {
     "data": {
      "text/plain": "[1, 2, 4, 5, 6, 7, 8, 9, 10]"
     },
     "execution_count": 173,
     "metadata": {},
     "output_type": "execute_result"
    }
   ],
   "source": [
    "remove_element_by_index(my_list,2)"
   ],
   "metadata": {
    "collapsed": false,
    "ExecuteTime": {
     "end_time": "2023-09-19T22:50:48.460340500Z",
     "start_time": "2023-09-19T22:50:48.405018800Z"
    }
   },
   "id": "2ead7a0b538aef49"
  },
  {
   "cell_type": "code",
   "execution_count": null,
   "outputs": [],
   "source": [
    "# 25., Írjon egy függvényt amely egy tetszőleges számmal megszorozza a lista összes elemét\n",
    "# függvény név: multiply_every_element\n",
    "# bemeneti paraméterek: input_list, multiplier\n",
    "# kimeneti típus: List "
   ],
   "metadata": {
    "collapsed": false
   },
   "id": "f752e1dbb5e38b88"
  },
  {
   "cell_type": "code",
   "execution_count": 14,
   "outputs": [],
   "source": [
    "def multiply_every_element(input_list, multiplier):\n",
    "    result = [x * multiplier for x in input_list]\n",
    "    return result\n"
   ],
   "metadata": {
    "collapsed": false,
    "ExecuteTime": {
     "end_time": "2023-09-20T16:22:35.688927400Z",
     "start_time": "2023-09-20T16:22:35.635606200Z"
    }
   },
   "id": "eff0e4599ddbb8fb"
  },
  {
   "cell_type": "code",
   "execution_count": 18,
   "outputs": [
    {
     "data": {
      "text/plain": "[5, 6, 7, 8, 9, 10, 11, 12, 13, 14]"
     },
     "execution_count": 18,
     "metadata": {},
     "output_type": "execute_result"
    }
   ],
   "source": [
    "multiply_every_element(my_list,4)"
   ],
   "metadata": {
    "collapsed": false,
    "ExecuteTime": {
     "end_time": "2023-09-20T16:23:11.993318400Z",
     "start_time": "2023-09-20T16:23:11.884484300Z"
    }
   },
   "id": "670a1f660c7ae800"
  },
  {
   "cell_type": "markdown",
   "source": [
    "# Dictionary feladatok"
   ],
   "metadata": {
    "collapsed": false
   },
   "id": "c7bfcf6fbed3ecf"
  },
  {
   "cell_type": "code",
   "execution_count": null,
   "outputs": [],
   "source": [
    "# 1. Hozz létre egy dictionary-t (dict.) amelyhez a két kulcs 'a' és 'b' és a hozzájuk tartozó értékek rendre 9 és [12, 'c']"
   ],
   "metadata": {
    "collapsed": false
   },
   "id": "ea486b7b2097d8c0"
  },
  {
   "cell_type": "code",
   "execution_count": 5,
   "outputs": [],
   "source": [
    "my_dict={'a': 9, 'b': [12,'c']}\n"
   ],
   "metadata": {
    "collapsed": false,
    "ExecuteTime": {
     "end_time": "2023-09-20T14:56:21.672520200Z",
     "start_time": "2023-09-20T14:56:21.637353500Z"
    }
   },
   "id": "fa44cb21eee22ee3"
  },
  {
   "cell_type": "code",
   "execution_count": null,
   "outputs": [],
   "source": [
    "# 2. Kérd le az előző dictionary 'a' kulcsán lévő értéket"
   ],
   "metadata": {
    "collapsed": false
   },
   "id": "8f38c2ba17f46ab3"
  },
  {
   "cell_type": "code",
   "execution_count": 37,
   "outputs": [
    {
     "name": "stdout",
     "output_type": "stream",
     "text": [
      "9\n"
     ]
    }
   ],
   "source": [
    "print(my_dict['a'])"
   ],
   "metadata": {
    "collapsed": false,
    "ExecuteTime": {
     "end_time": "2023-09-19T19:53:50.148179700Z",
     "start_time": "2023-09-19T19:53:50.090264700Z"
    }
   },
   "id": "ae105a95dca05249"
  },
  {
   "cell_type": "code",
   "execution_count": null,
   "outputs": [],
   "source": [
    "# 3. Kérd le az előző dictionary 'd' kulcsán lévő értéket olyan módon, hogy ne hibát kapj, hanem Null legyen a visszatérési érték"
   ],
   "metadata": {
    "collapsed": false
   },
   "id": "d64af3034dbf0bc2"
  },
  {
   "cell_type": "code",
   "execution_count": 181,
   "outputs": [],
   "source": [
    "my_dict.get('d',None)"
   ],
   "metadata": {
    "collapsed": false,
    "ExecuteTime": {
     "end_time": "2023-09-19T22:59:32.005376800Z",
     "start_time": "2023-09-19T22:59:31.945928100Z"
    }
   },
   "id": "9153fd4f597d5633"
  },
  {
   "cell_type": "code",
   "execution_count": null,
   "outputs": [],
   "source": [
    "# 4., Írjon egy függvényt amely töröl egy megadott kulcsú elemet a dict.-ből\n",
    "# függvény név: remove_key\n",
    "# bemeneti paraméterek: input_dict, key\n",
    "# kimeneti típus: Dict "
   ],
   "metadata": {
    "collapsed": false
   },
   "id": "8d0730f02cbd74ae"
  },
  {
   "cell_type": "code",
   "execution_count": 186,
   "outputs": [],
   "source": [
    "def remove_key(input_dict, key):\n",
    "    if key in input_dict:\n",
    "        del input_dict[key]\n",
    "    return input_dict"
   ],
   "metadata": {
    "collapsed": false,
    "ExecuteTime": {
     "end_time": "2023-09-19T23:02:49.804777800Z",
     "start_time": "2023-09-19T23:02:49.773064500Z"
    }
   },
   "id": "16025be7289f3fe1"
  },
  {
   "cell_type": "code",
   "execution_count": 192,
   "outputs": [
    {
     "data": {
      "text/plain": "{'a': 9}"
     },
     "execution_count": 192,
     "metadata": {},
     "output_type": "execute_result"
    }
   ],
   "source": [
    "remove_key(my_dict,'b')"
   ],
   "metadata": {
    "collapsed": false,
    "ExecuteTime": {
     "end_time": "2023-09-19T23:04:01.177461400Z",
     "start_time": "2023-09-19T23:04:01.132052600Z"
    }
   },
   "id": "1adaa6cfaf92ce4b"
  },
  {
   "cell_type": "code",
   "execution_count": 185,
   "outputs": [],
   "source": [
    "# 5., Írjon egy függvényt amely a sorba rendezi a kulcs-érték párokat a kulcs értéke szerint egy dictionary-ben\n",
    "# függvény név: sort_by_key\n",
    "# bemeneti paraméterek: input_dict\n",
    "# kimeneti típus: Dict "
   ],
   "metadata": {
    "collapsed": false,
    "ExecuteTime": {
     "end_time": "2023-09-19T23:02:43.137329600Z",
     "start_time": "2023-09-19T23:02:43.097894600Z"
    }
   },
   "id": "4289ee61b660cf03"
  },
  {
   "cell_type": "code",
   "execution_count": 194,
   "outputs": [],
   "source": [
    "def sort_by_key(input_dict):\n",
    "    sorted_dict = {k: v for k, v in sorted(input_dict.items())}\n",
    "    return sorted_dict\n"
   ],
   "metadata": {
    "collapsed": false,
    "ExecuteTime": {
     "end_time": "2023-09-19T23:05:09.804427700Z",
     "start_time": "2023-09-19T23:05:09.769893800Z"
    }
   },
   "id": "4144b46e7390123b"
  },
  {
   "cell_type": "code",
   "execution_count": 195,
   "outputs": [
    {
     "data": {
      "text/plain": "{'a': 9, 'b': [12, 'c']}"
     },
     "execution_count": 195,
     "metadata": {},
     "output_type": "execute_result"
    }
   ],
   "source": [
    "sort_by_key(my_dict)"
   ],
   "metadata": {
    "collapsed": false,
    "ExecuteTime": {
     "end_time": "2023-09-19T23:05:36.822438Z",
     "start_time": "2023-09-19T23:05:36.731818900Z"
    }
   },
   "id": "f03264405968e0fa"
  },
  {
   "cell_type": "code",
   "execution_count": null,
   "outputs": [],
   "source": [
    "# 6., Írjon egy függvényt amely összeadja a dict.-ben található összes értéket\n",
    "# függvény név: sum_in_dict\n",
    "# bemeneti paraméterek: input_dict\n",
    "# kimeneti típus: float "
   ],
   "metadata": {
    "collapsed": false
   },
   "id": "7f38190f627e8631"
  },
  {
   "cell_type": "code",
   "execution_count": 199,
   "outputs": [],
   "source": [
    "def sum_in_dict(input_dict):\n",
    "    total = sum(input_dict.values())\n",
    "    return total\n"
   ],
   "metadata": {
    "collapsed": false,
    "ExecuteTime": {
     "end_time": "2023-09-19T23:09:07.973578500Z",
     "start_time": "2023-09-19T23:09:07.917906600Z"
    }
   },
   "id": "15175be34ef8a9d9"
  },
  {
   "cell_type": "code",
   "execution_count": 200,
   "outputs": [
    {
     "ename": "TypeError",
     "evalue": "unsupported operand type(s) for +: 'int' and 'list'",
     "output_type": "error",
     "traceback": [
      "\u001B[1;31m---------------------------------------------------------------------------\u001B[0m",
      "\u001B[1;31mTypeError\u001B[0m                                 Traceback (most recent call last)",
      "\u001B[1;32m~\\AppData\\Local\\Temp\\ipykernel_20384\\646043045.py\u001B[0m in \u001B[0;36m<module>\u001B[1;34m\u001B[0m\n\u001B[1;32m----> 1\u001B[1;33m \u001B[0msum_in_dict\u001B[0m\u001B[1;33m(\u001B[0m\u001B[0mmy_dict\u001B[0m\u001B[1;33m)\u001B[0m\u001B[1;33m\u001B[0m\u001B[1;33m\u001B[0m\u001B[0m\n\u001B[0m",
      "\u001B[1;32m~\\AppData\\Local\\Temp\\ipykernel_20384\\49874645.py\u001B[0m in \u001B[0;36msum_in_dict\u001B[1;34m(input_dict)\u001B[0m\n\u001B[0;32m      1\u001B[0m \u001B[1;32mdef\u001B[0m \u001B[0msum_in_dict\u001B[0m\u001B[1;33m(\u001B[0m\u001B[0minput_dict\u001B[0m\u001B[1;33m)\u001B[0m\u001B[1;33m:\u001B[0m\u001B[1;33m\u001B[0m\u001B[1;33m\u001B[0m\u001B[0m\n\u001B[1;32m----> 2\u001B[1;33m     \u001B[0mtotal\u001B[0m \u001B[1;33m=\u001B[0m \u001B[0msum\u001B[0m\u001B[1;33m(\u001B[0m\u001B[0minput_dict\u001B[0m\u001B[1;33m.\u001B[0m\u001B[0mvalues\u001B[0m\u001B[1;33m(\u001B[0m\u001B[1;33m)\u001B[0m\u001B[1;33m)\u001B[0m\u001B[1;33m\u001B[0m\u001B[1;33m\u001B[0m\u001B[0m\n\u001B[0m\u001B[0;32m      3\u001B[0m     \u001B[1;32mreturn\u001B[0m \u001B[0mtotal\u001B[0m\u001B[1;33m\u001B[0m\u001B[1;33m\u001B[0m\u001B[0m\n\u001B[0;32m      4\u001B[0m \u001B[1;33m\u001B[0m\u001B[0m\n",
      "\u001B[1;31mTypeError\u001B[0m: unsupported operand type(s) for +: 'int' and 'list'"
     ]
    }
   ],
   "source": [
    "sum_in_dict(my_dict)"
   ],
   "metadata": {
    "collapsed": false,
    "ExecuteTime": {
     "end_time": "2023-09-19T23:09:08.953606500Z",
     "start_time": "2023-09-19T23:09:08.875951Z"
    }
   },
   "id": "b55c7574f7c47365"
  },
  {
   "cell_type": "code",
   "execution_count": null,
   "outputs": [],
   "source": [
    "# 7., Írjon egy függvényt amely összekapcsol 2 dictionary-t 1 dict.-ben\n",
    "# függvény név: merge_two_dicts\n",
    "# bemeneti paraméterek: input_dict1, input_dict2\n",
    "# kimeneti típus: Dict "
   ],
   "metadata": {
    "collapsed": false
   },
   "id": "129ac5fb35728b79"
  },
  {
   "cell_type": "code",
   "execution_count": 6,
   "outputs": [],
   "source": [
    "def merge_two_dicts(input_dict1, input_dict2):\n",
    "    merged_dict = {**input_dict1, **input_dict2}\n",
    "    return merged_dict"
   ],
   "metadata": {
    "collapsed": false,
    "ExecuteTime": {
     "end_time": "2023-09-20T14:56:33.725411800Z",
     "start_time": "2023-09-20T14:56:33.684489300Z"
    }
   },
   "id": "1d1cb11d826ad1ad"
  },
  {
   "cell_type": "code",
   "execution_count": 7,
   "outputs": [
    {
     "data": {
      "text/plain": "{'a': 9, 'b': [12, 'c']}"
     },
     "execution_count": 7,
     "metadata": {},
     "output_type": "execute_result"
    }
   ],
   "source": [
    "merge_two_dicts(my_dict, my_dict)"
   ],
   "metadata": {
    "collapsed": false,
    "ExecuteTime": {
     "end_time": "2023-09-20T14:56:35.088678100Z",
     "start_time": "2023-09-20T14:56:34.993189800Z"
    }
   },
   "id": "6f6c6cc073780800"
  },
  {
   "cell_type": "code",
   "execution_count": null,
   "outputs": [],
   "source": [
    "# 8., Írjon egy függvényt amely összekapcsol n dictionary-t 1 dict.-ben\n",
    "# függvény név: merge_dicts\n",
    "# bemeneti paraméterek: *dicts\n",
    "# kimeneti típus: Dict "
   ],
   "metadata": {
    "collapsed": false
   },
   "id": "2d6e28936e1fc7f6"
  },
  {
   "cell_type": "code",
   "execution_count": 8,
   "outputs": [],
   "source": [
    "def merge_dicts(*dicts):\n",
    "    merged_dict = {}\n",
    "    for d in dicts:\n",
    "        merged_dict.update(d)\n",
    "    return merged_dict"
   ],
   "metadata": {
    "collapsed": false,
    "ExecuteTime": {
     "end_time": "2023-09-20T14:58:15.646909900Z",
     "start_time": "2023-09-20T14:58:15.570492800Z"
    }
   },
   "id": "3d4f59def68ff61b"
  },
  {
   "cell_type": "code",
   "execution_count": 9,
   "outputs": [
    {
     "data": {
      "text/plain": "{'a': 9, 'b': [12, 'c']}"
     },
     "execution_count": 9,
     "metadata": {},
     "output_type": "execute_result"
    }
   ],
   "source": [
    "merge_dicts(my_dict,my_dict,my_dict)"
   ],
   "metadata": {
    "collapsed": false,
    "ExecuteTime": {
     "end_time": "2023-09-20T14:58:39.594800300Z",
     "start_time": "2023-09-20T14:58:39.508702800Z"
    }
   },
   "id": "e1dd09df21776128"
  },
  {
   "cell_type": "code",
   "execution_count": null,
   "outputs": [],
   "source": [
    "# 9., Írjon egy függvényt amely a bemeneti, pozitív egész számokat tartalmazó listát kiválogatja páros és páratlan számokra, és visszaad egy olyan dictionary-t, amelyben a kulcs az 'even' és 'odd', az értékek, pedig a listák.\n",
    "# függvény név: sort_list_by_parity\n",
    "# bemeneti paraméterek: input_list\n",
    "# kimeneti típus: Dict "
   ],
   "metadata": {
    "collapsed": false
   },
   "id": "31c2ef51ea259d5d"
  },
  {
   "cell_type": "code",
   "execution_count": 10,
   "outputs": [],
   "source": [
    "def sort_list_by_parity(input_list):\n",
    "    even_numbers = [x for x in input_list if x % 2 == 0]\n",
    "    odd_numbers = [x for x in input_list if x % 2 != 0]\n",
    "    \n",
    "    result_dict = {'even': even_numbers, 'odd': odd_numbers}\n",
    "    return result_dict\n"
   ],
   "metadata": {
    "collapsed": false,
    "ExecuteTime": {
     "end_time": "2023-09-20T15:00:44.714605200Z",
     "start_time": "2023-09-20T15:00:44.653400100Z"
    }
   },
   "id": "85abb76721ac4860"
  },
  {
   "cell_type": "code",
   "execution_count": null,
   "outputs": [],
   "source": [],
   "metadata": {
    "collapsed": false
   },
   "id": "eafbeb79effb4e1e"
  },
  {
   "cell_type": "code",
   "execution_count": null,
   "outputs": [],
   "source": [
    "# 10., Írjon egy függvényt amely a bemenetként kapott dictionary értékeinél található listák átlagait adja vissza egy új dictionary-be. {\"some_key\":[1,2,3,4],\"another_key\":[1,2,3,4],....} -> {\"some_key\":mean_of_values,\"another_key\":mean_of_values,....}\n",
    "# függvény név: mean_by_key_value\n",
    "# bemeneti paraméterek: input_dict\n",
    "# kimeneti típus: Dict "
   ],
   "metadata": {
    "collapsed": false
   },
   "id": "b7d17d821c18b94e"
  },
  {
   "cell_type": "code",
   "execution_count": 11,
   "outputs": [],
   "source": [
    "def mean_by_key_value(input_dict):\n",
    "    result_dict = {}\n",
    "    \n",
    "    for key, value in input_dict.items():\n",
    "        if isinstance(value, list) and len(value) > 0:\n",
    "            mean_value = sum(value) / len(value)\n",
    "            result_dict[key] = mean_value\n",
    "    \n",
    "    return result_dict\n"
   ],
   "metadata": {
    "collapsed": false,
    "ExecuteTime": {
     "end_time": "2023-09-20T15:01:58.279394900Z",
     "start_time": "2023-09-20T15:01:58.214955Z"
    }
   },
   "id": "3f297655c29e1e6"
  },
  {
   "cell_type": "code",
   "execution_count": null,
   "outputs": [],
   "source": [],
   "metadata": {
    "collapsed": false
   },
   "id": "f2728aad103eea86"
  },
  {
   "cell_type": "code",
   "execution_count": null,
   "outputs": [],
   "source": [
    "# 11., Írjon egy függvényt amely a bemeneti lista értékeinek előállítja a gyakoriságát\n",
    "# függvény név: count_frequency\n",
    "# bemeneti paraméterek: input_list\n",
    "# kimeneti típus: Dict "
   ],
   "metadata": {
    "collapsed": false
   },
   "id": "4408607c342665b"
  },
  {
   "cell_type": "code",
   "execution_count": 12,
   "outputs": [],
   "source": [
    "def count_frequency(input_list):\n",
    "    frequency_dict = {}\n",
    "    \n",
    "    for item in input_list:\n",
    "        if item in frequency_dict:\n",
    "            frequency_dict[item] += 1\n",
    "        else:\n",
    "            frequency_dict[item] = 1\n",
    "    \n",
    "    return frequency_dict\n"
   ],
   "metadata": {
    "collapsed": false,
    "ExecuteTime": {
     "end_time": "2023-09-20T15:02:54.163118800Z",
     "start_time": "2023-09-20T15:02:54.050971300Z"
    }
   },
   "id": "c190bbd919048c7c"
  },
  {
   "cell_type": "code",
   "execution_count": null,
   "outputs": [],
   "source": [],
   "metadata": {
    "collapsed": false
   },
   "id": "3cf3e1d2e4b6bd48"
  },
  {
   "cell_type": "markdown",
   "source": [
    "### A heti feladatok függvény definícióit helyezze el a src/utils module-on belül a builtin_wrappers.py nevű fájlba."
   ],
   "metadata": {
    "collapsed": false
   },
   "id": "4642e9fa7740d8ec"
  }
 ],
 "metadata": {
  "kernelspec": {
   "display_name": "Python 3",
   "language": "python",
   "name": "python3"
  },
  "language_info": {
   "codemirror_mode": {
    "name": "ipython",
    "version": 2
   },
   "file_extension": ".py",
   "mimetype": "text/x-python",
   "name": "python",
   "nbconvert_exporter": "python",
   "pygments_lexer": "ipython2",
   "version": "2.7.6"
  }
 },
 "nbformat": 4,
 "nbformat_minor": 5
}
