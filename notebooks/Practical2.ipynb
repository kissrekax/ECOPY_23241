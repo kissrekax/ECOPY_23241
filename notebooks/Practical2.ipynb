{
 "cells": [
  {
   "cell_type": "markdown",
   "source": [
    "## A feladatok megoldása során csak a random, typing, math és pyerf modulok importálása elfogadott"
   ],
   "metadata": {
    "collapsed": false
   },
   "id": "d505d83ecd86220f"
  },
  {
   "cell_type": "markdown",
   "source": [
    "### A véletlenszám generálással kapcsolatos feladatok megoldását mentse src/utils modul-ba a **rand_wrappers.py** nevű fájlba"
   ],
   "metadata": {
    "collapsed": false
   },
   "id": "ea5dd5c989562edd"
  },
  {
   "cell_type": "markdown",
   "source": [
    "#### I. Véletlenszám generálás"
   ],
   "metadata": {
    "collapsed": false
   },
   "id": "2b075b97100da4f5"
  },
  {
   "cell_type": "code",
   "execution_count": null,
   "outputs": [],
   "source": [
    "\"\"\"\n",
    "0. Importáld a random modult\n",
    "\"\"\""
   ],
   "metadata": {
    "collapsed": false
   },
   "id": "cbd02be6fcc0366a"
  },
  {
   "cell_type": "code",
   "execution_count": 2,
   "outputs": [],
   "source": [
    "import random"
   ],
   "metadata": {
    "collapsed": false,
    "ExecuteTime": {
     "end_time": "2023-09-26T19:22:58.169768Z",
     "start_time": "2023-09-26T19:22:58.128967Z"
    }
   },
   "id": "293149d5d3d7699c"
  },
  {
   "cell_type": "code",
   "execution_count": null,
   "outputs": [],
   "source": [
    "\"\"\"\n",
    " 1., Hívd meg a random szám generátort, és generálj egy 0 és 1 közötti véletlen számot\n",
    "\"\"\""
   ],
   "metadata": {
    "collapsed": false
   },
   "id": "eb4ecd4b7ce19422"
  },
  {
   "cell_type": "code",
   "execution_count": 3,
   "outputs": [
    {
     "name": "stdout",
     "output_type": "stream",
     "text": [
      "0.85785227622557\n"
     ]
    }
   ],
   "source": [
    "\n",
    "# Hívd meg a random szám generátort\n",
    "random_number = random.random() #ez jelenti a random szám generátor meghívását\n",
    "\n",
    "# Generálj egy 0 és 1 közötti véletlen számot\n",
    "print(random_number)\n"
   ],
   "metadata": {
    "collapsed": false,
    "ExecuteTime": {
     "end_time": "2023-09-26T19:23:05.357646Z",
     "start_time": "2023-09-26T19:23:05.319729900Z"
    }
   },
   "id": "43b12980ba15149a"
  },
  {
   "cell_type": "code",
   "execution_count": null,
   "outputs": [],
   "source": [
    "\"\"\"\n",
    "2., Generálj 1 és 100 közötti egész véletlen számokat\n",
    "\"\"\""
   ],
   "metadata": {
    "collapsed": false
   },
   "id": "2256690fb4b1ec52"
  },
  {
   "cell_type": "code",
   "execution_count": 9,
   "outputs": [
    {
     "name": "stdout",
     "output_type": "stream",
     "text": [
      "44\n"
     ]
    }
   ],
   "source": [
    "random_number_2 = random.randint(1,100) #ezzel meghívjuk a randint függvényt, amivel az alső és felső határ között generálhatunk random számot\n",
    "print(random_number_2)"
   ],
   "metadata": {
    "collapsed": false,
    "ExecuteTime": {
     "end_time": "2023-09-26T19:26:28.016233400Z",
     "start_time": "2023-09-26T19:26:27.992331900Z"
    }
   },
   "id": "a06c7bcdb2f0479c"
  },
  {
   "cell_type": "code",
   "execution_count": null,
   "outputs": [],
   "source": [
    "\"\"\"\n",
    "3. Generálj 1 és 100 közötti véletlen egész számot, olyan módon, hogy a random seed értéke 42 legyen\n",
    "\"\"\""
   ],
   "metadata": {
    "collapsed": false
   },
   "id": "2619e1f9970a541"
  },
  {
   "cell_type": "code",
   "execution_count": 19,
   "outputs": [
    {
     "name": "stdout",
     "output_type": "stream",
     "text": [
      "82\n"
     ]
    }
   ],
   "source": [
    "random.seed(42) #be lehet ezzel állítani, hogy minden futtatásnál ugyanazt a seed-et generálja\n",
    "random_number_3 = random.randint(1,100)\n",
    "print(random_number_3)"
   ],
   "metadata": {
    "collapsed": false,
    "ExecuteTime": {
     "end_time": "2023-09-26T19:31:39.879269100Z",
     "start_time": "2023-09-26T19:31:39.831964800Z"
    }
   },
   "id": "32dc9cba11559ce6"
  },
  {
   "cell_type": "code",
   "execution_count": null,
   "outputs": [],
   "source": [
    "\"\"\"\n",
    "4., Készíts egy függvényt, ami visszaad egy véletlenül kiválasztott elemet egy egész számokat tartalmazó listából.\n",
    "    függvény neve: random_from_list\n",
    "    bemenet: input_list\n",
    "    kimenetí típus: int\n",
    "\"\"\""
   ],
   "metadata": {
    "collapsed": false
   },
   "id": "c51741266de0cdad"
  },
  {
   "cell_type": "code",
   "execution_count": 20,
   "outputs": [],
   "source": [
    "def random_from_list(input_list):\n",
    "    if not input_list:\n",
    "        raise ValueError(\"Az input_list üres, nincs elem kiválasztva.\")\n",
    "\n",
    "    random_element = random.choice(input_list)\n",
    "    return random_element"
   ],
   "metadata": {
    "collapsed": false,
    "ExecuteTime": {
     "end_time": "2023-09-26T19:36:30.093118100Z",
     "start_time": "2023-09-26T19:36:30.037464Z"
    }
   },
   "id": "72b0c99ffa3612ba"
  },
  {
   "cell_type": "code",
   "execution_count": 37,
   "outputs": [
    {
     "name": "stdout",
     "output_type": "stream",
     "text": [
      "2\n"
     ]
    }
   ],
   "source": [
    "my_list=[1, 2, 3, 4, 5, 6, 7, 8, 9, 10]\n",
    "selected_element = random_from_list(my_list)\n",
    "print(selected_element)\n",
    "\n",
    "#így ha újra futtatjuk mást ad, de itt is be lehet állítani a random seed-et"
   ],
   "metadata": {
    "collapsed": false,
    "ExecuteTime": {
     "end_time": "2023-09-26T19:38:03.145867Z",
     "start_time": "2023-09-26T19:38:03.100284700Z"
    }
   },
   "id": "cdde72ad03063a33"
  },
  {
   "cell_type": "code",
   "execution_count": null,
   "outputs": [],
   "source": [
    "\"\"\"\n",
    "5., Készíts egy függvényt, ami visszaad egy n darab véletlen számot tartalmazó listát egy egész számokat tartalmazó bemenenti listából.\n",
    "    függvény neve: random_sublist_from_list\n",
    "    bemenet: input_list, number_of_elements\n",
    "    kimenetí típus: List\n",
    "\"\"\""
   ],
   "metadata": {
    "collapsed": false
   },
   "id": "3c3b117c6945d95e"
  },
  {
   "cell_type": "code",
   "execution_count": 75,
   "outputs": [
    {
     "name": "stdout",
     "output_type": "stream",
     "text": [
      "Véletlenszerűen kiválasztott elemek: [10, 9, 6]\n"
     ]
    }
   ],
   "source": [
    "import random\n",
    "\n",
    "def random_sublist_from_list(input_list, number_of_elements):\n",
    "    if not input_list:\n",
    "        raise ValueError(\"Az input_list üres, nincs elem kiválasztva.\")\n",
    "\n",
    "    if number_of_elements <= 0:\n",
    "        raise ValueError(\"A number_of_elements értéke nem pozitív.\")\n",
    "\n",
    "    if number_of_elements > len(input_list):\n",
    "        raise ValueError(\"A number_of_elements nagyobb, mint az input_list hossza.\")\n",
    "\n",
    "    random_sublist = random.sample(input_list, number_of_elements)\n",
    "    return random_sublist\n",
    "\n",
    "# Példa használat\n",
    "my_list = [1, 2, 3, 4, 5, 6, 7, 8, 9, 10]\n",
    "selected_elements = random_sublist_from_list(my_list, 3)\n",
    "print(\"Véletlenszerűen kiválasztott elemek:\", selected_elements)\n"
   ],
   "metadata": {
    "collapsed": false,
    "ExecuteTime": {
     "end_time": "2023-09-27T15:36:26.351578Z",
     "start_time": "2023-09-27T15:36:26.273976400Z"
    }
   },
   "id": "ceac8cab2318777a"
  },
  {
   "cell_type": "code",
   "execution_count": null,
   "outputs": [],
   "source": [],
   "metadata": {
    "collapsed": false
   },
   "id": "fe7a3b2e5edeb6da"
  },
  {
   "cell_type": "code",
   "execution_count": null,
   "outputs": [],
   "source": [
    "\"\"\"\n",
    "6., Készíts egy függvényt, ami visszaad egy véletlenül kiválasztott elemet egy string-ből.\n",
    "    függvény neve: random_from_string\n",
    "    bemenet: input_string\n",
    "    kimeneti típus: string\n",
    "\"\"\""
   ],
   "metadata": {
    "collapsed": false
   },
   "id": "ed010e62624fc66b"
  },
  {
   "cell_type": "code",
   "execution_count": 39,
   "outputs": [
    {
     "name": "stdout",
     "output_type": "stream",
     "text": [
      "Véletlenszerűen kiválasztott karakter: b\n"
     ]
    }
   ],
   "source": [
    "import random\n",
    "\n",
    "def random_from_string(input_string):\n",
    "    if not input_string:\n",
    "        raise ValueError(\"Az input_string üres, nincs elem kiválasztva.\")\n",
    "\n",
    "    random_char = random.choice(input_string)\n",
    "    return random_char\n",
    "\n",
    "# Példa használat\n",
    "my_string = \"abcdefg\"\n",
    "selected_char = random_from_string(my_string)\n",
    "print(\"Véletlenszerűen kiválasztott karakter:\", selected_char)\n"
   ],
   "metadata": {
    "collapsed": false,
    "ExecuteTime": {
     "end_time": "2023-09-26T19:49:44.252858200Z",
     "start_time": "2023-09-26T19:49:44.189318600Z"
    }
   },
   "id": "b80d5b96ab74845f"
  },
  {
   "cell_type": "code",
   "execution_count": null,
   "outputs": [],
   "source": [],
   "metadata": {
    "collapsed": false
   },
   "id": "83a9b80d30f40573"
  },
  {
   "cell_type": "code",
   "execution_count": null,
   "outputs": [],
   "source": [
    "'''\n",
    "7., Készíts egy függvényt, amely visszaad egy 100 elemű, 0 és 1 közötti véletlen számokat tartalmazó listát\n",
    "    függvény név: hundred_small_random\n",
    "    bemenet: None\n",
    "    kimeneti típus: List\n",
    "'''"
   ],
   "metadata": {
    "collapsed": false
   },
   "id": "a18853a36629971e"
  },
  {
   "cell_type": "code",
   "execution_count": 40,
   "outputs": [
    {
     "name": "stdout",
     "output_type": "stream",
     "text": [
      "[0, 0, 0, 1, 0, 0, 0, 0, 0, 0, 0, 1, 0, 1, 1, 0, 0, 1, 1, 1, 0, 0, 1, 0, 0, 1, 0, 1, 1, 1, 0, 1, 0, 1, 0, 1, 1, 0, 0, 0, 0, 1, 0, 0, 0, 1, 1, 1, 1, 0, 1, 1, 0, 1, 0, 0, 0, 0, 1, 1, 1, 0, 1, 0, 0, 0, 1, 1, 1, 0, 0, 1, 0, 1, 1, 1, 0, 1, 0, 0, 1, 1, 1, 1, 0, 0, 1, 0, 0, 0, 0, 0, 1, 0, 1, 1, 1, 1, 0, 0]\n"
     ]
    }
   ],
   "source": [
    "import random\n",
    "\n",
    "def hundred_small_random():\n",
    "    random_list = [random.randint(0, 1) for _ in range(100)]\n",
    "    return random_list\n",
    "\n",
    "# Példa használat\n",
    "random_numbers = hundred_small_random()\n",
    "print(random_numbers)\n"
   ],
   "metadata": {
    "collapsed": false,
    "ExecuteTime": {
     "end_time": "2023-09-26T19:54:14.276052400Z",
     "start_time": "2023-09-26T19:54:14.197304300Z"
    }
   },
   "id": "7dbab89507762f1c"
  },
  {
   "cell_type": "code",
   "execution_count": null,
   "outputs": [],
   "source": [],
   "metadata": {
    "collapsed": false
   },
   "id": "30d4ef80cc42dd81"
  },
  {
   "cell_type": "code",
   "execution_count": null,
   "outputs": [],
   "source": [
    "\"\"\"\n",
    "8., Készíts egy függvényt, amely visszaad egy 100 elemű, 10 és 1000 közötti véletlen számokat tartalmazó listát\n",
    "    függvény név: hundred_large_random\n",
    "    bemenet: None\n",
    "    kimeneti típus: List\n",
    "\"\"\""
   ],
   "metadata": {
    "collapsed": false
   },
   "id": "bc12cbcfce92f383"
  },
  {
   "cell_type": "code",
   "execution_count": 41,
   "outputs": [
    {
     "name": "stdout",
     "output_type": "stream",
     "text": [
      "[708, 916, 559, 778, 283, 797, 666, 358, 124, 310, 455, 171, 474, 13, 986, 749, 906, 746, 279, 522, 790, 192, 529, 944, 118, 901, 650, 315, 871, 664, 529, 633, 213, 166, 392, 790, 175, 562, 986, 807, 954, 553, 950, 10, 623, 341, 510, 29, 124, 961, 381, 909, 861, 836, 324, 255, 69, 256, 909, 590, 979, 90, 97, 759, 507, 845, 80, 788, 555, 794, 138, 141, 685, 496, 979, 572, 179, 281, 550, 903, 631, 443, 997, 226, 961, 562, 783, 757, 716, 215, 740, 329, 418, 697, 675, 392, 458, 931, 539, 472]\n"
     ]
    }
   ],
   "source": [
    "import random\n",
    "\n",
    "def hundred_large_random():\n",
    "    random_list = [random.randint(10, 1000) for _ in range(100)]\n",
    "    return random_list\n",
    "\n",
    "# Példa használat\n",
    "random_numbers = hundred_large_random()\n",
    "print(random_numbers)\n"
   ],
   "metadata": {
    "collapsed": false,
    "ExecuteTime": {
     "end_time": "2023-09-26T19:58:48.713621200Z",
     "start_time": "2023-09-26T19:58:48.625194100Z"
    }
   },
   "id": "586792b8f8ecd642"
  },
  {
   "cell_type": "code",
   "execution_count": null,
   "outputs": [],
   "source": [],
   "metadata": {
    "collapsed": false
   },
   "id": "fd4a6333ae377e15"
  },
  {
   "cell_type": "code",
   "execution_count": null,
   "outputs": [],
   "source": [
    "\"\"\"\n",
    "9., Készíts egy függvényt, amely visszaad 5 elemű, 9 és 1000 közötti, 3-al osztható egész számokat tartalmazó listát\n",
    "    függvény név: five_random_number_div_three\n",
    "    bemenet: None\n",
    "    kimeneti típus: List\n",
    "\n",
    "\"\"\""
   ],
   "metadata": {
    "collapsed": false
   },
   "id": "ce1496d7f237ab67"
  },
  {
   "cell_type": "code",
   "execution_count": 54,
   "outputs": [
    {
     "name": "stdout",
     "output_type": "stream",
     "text": [
      "[828, 891, 120]\n",
      "[558, 468, 441, 294, 264]\n"
     ]
    }
   ],
   "source": [
    "import random\n",
    "\n",
    "def five_random_number_div_three():\n",
    "    random_list = [random.randint(9, 1000) for _ in range(5)]\n",
    "    random_list = [x for x in random_list if x % 3 == 0]\n",
    "    return random_list\n",
    "\n",
    "# Példa használat\n",
    "random_numbers = five_random_number_div_three()\n",
    "print(random_numbers)\n",
    "\n",
    "import random\n",
    "\n",
    "def five_random_number_div_three(): #csak így áll mindig 5 elemből a lista\n",
    "    random_list = []\n",
    "    while len(random_list) < 5:\n",
    "        number = random.randint(9, 1000)\n",
    "        if number % 3 == 0:\n",
    "            random_list.append(number)\n",
    "    return random_list\n",
    "\n",
    "# Példa használat\n",
    "random_numbers = five_random_number_div_three()\n",
    "print(random_numbers)\n",
    "\n"
   ],
   "metadata": {
    "collapsed": false,
    "ExecuteTime": {
     "end_time": "2023-09-26T20:02:16.647048400Z",
     "start_time": "2023-09-26T20:02:16.617297300Z"
    }
   },
   "id": "c9e3d1b8fe71de27"
  },
  {
   "cell_type": "code",
   "execution_count": null,
   "outputs": [],
   "source": [],
   "metadata": {
    "collapsed": false
   },
   "id": "7f9d89c8ddc6ce59"
  },
  {
   "cell_type": "code",
   "execution_count": null,
   "outputs": [],
   "source": [
    "\"\"\"\n",
    "10., Készíts egy függvényt amely a bemeneti lista elemeit véletlenszerűen összekeveri\n",
    "    függvény név: random_reorder\n",
    "    bemenet: input_list\n",
    "    kimeneti típus: List\n",
    "\"\"\""
   ],
   "metadata": {
    "collapsed": false
   },
   "id": "6ad21e9a5d93bbfb"
  },
  {
   "cell_type": "code",
   "execution_count": 57,
   "outputs": [
    {
     "name": "stdout",
     "output_type": "stream",
     "text": [
      "Véletlenszerűen összekevert lista: [10, 2, 8, 6, 3, 4, 9, 5, 7, 1]\n"
     ]
    }
   ],
   "source": [
    "import random\n",
    "\n",
    "def random_reorder(input_list):\n",
    "    if not input_list:\n",
    "        return input_list  # Ha az input_list üres, nem kell összekeverni.\n",
    "\n",
    "    shuffled_list = input_list.copy()\n",
    "    random.shuffle(shuffled_list)\n",
    "    return shuffled_list\n",
    "\n",
    "# Példa használat\n",
    "my_list = [1, 2, 3, 4, 5, 6, 7, 8, 9, 10]\n",
    "shuffled_list = random_reorder(my_list)\n",
    "print(\"Véletlenszerűen összekevert lista:\", shuffled_list)\n"
   ],
   "metadata": {
    "collapsed": false,
    "ExecuteTime": {
     "end_time": "2023-09-26T20:03:47.031522300Z",
     "start_time": "2023-09-26T20:03:47.016372800Z"
    }
   },
   "id": "6f0329d3744fca49"
  },
  {
   "cell_type": "code",
   "execution_count": null,
   "outputs": [],
   "source": [],
   "metadata": {
    "collapsed": false
   },
   "id": "af6e3bdb8199d9f2"
  },
  {
   "cell_type": "code",
   "execution_count": null,
   "outputs": [],
   "source": [
    "\"\"\"\n",
    "11., Készíts egy függvényt, amely 1 és 5 közötti egyenletes eloszlású valós véletlen számot ad vissza minden meghívás esetén.\n",
    "    függvény név: uniform_one_to_five\n",
    "    bemenet: None\n",
    "    kimeneti típus: float\n",
    "\"\"\""
   ],
   "metadata": {
    "collapsed": false
   },
   "id": "b346c5d2a2c56fb4"
  },
  {
   "cell_type": "code",
   "execution_count": 73,
   "outputs": [
    {
     "name": "stdout",
     "output_type": "stream",
     "text": [
      "Véletlenszerűen generált szám 1 és 5 között: 2.67689966134349\n",
      "Véletlenszerűen generált szám 1 és 5 között: 5\n"
     ]
    }
   ],
   "source": [
    "import random\n",
    "\n",
    "def uniform_one_to_five():\n",
    "    return random.uniform(1, 5)\n",
    "\n",
    "# Példa használat\n",
    "random_number = uniform_one_to_five()\n",
    "print(\"Véletlenszerűen generált szám 1 és 5 között:\", random_number)\n",
    "\n"
   ],
   "metadata": {
    "collapsed": false,
    "ExecuteTime": {
     "end_time": "2023-09-26T20:07:32.643849700Z",
     "start_time": "2023-09-26T20:07:32.548077200Z"
    }
   },
   "id": "67c7bbf849747c09"
  },
  {
   "cell_type": "code",
   "execution_count": null,
   "outputs": [],
   "source": [],
   "metadata": {
    "collapsed": false
   },
   "id": "fb8a56105b94f9ce"
  },
  {
   "cell_type": "markdown",
   "source": [
    "### Az eloszlásokkal kapcsolatos feladatok megoldását mentse src/utils modul-ba a distributions.py nevű fájlba"
   ],
   "metadata": {
    "collapsed": false
   },
   "id": "e1a6639d7cd229b"
  },
  {
   "cell_type": "markdown",
   "source": [
    "#### II. Eloszlások"
   ],
   "metadata": {
    "collapsed": false
   },
   "id": "5591376fe0ff73b3"
  },
  {
   "cell_type": "code",
   "execution_count": null,
   "outputs": [],
   "source": [
    "\"\"\"\n",
    "1., Hozz létre egy új osztályt, aminek a neve FirstClass\n",
    "    osztály név: FirstClass\n",
    "\"\"\""
   ],
   "metadata": {
    "collapsed": false
   },
   "id": "664df0ef9ac68a9f"
  },
  {
   "cell_type": "code",
   "execution_count": 2,
   "outputs": [],
   "source": [
    "class FirstClass:\n",
    "    pass"
   ],
   "metadata": {
    "collapsed": false,
    "ExecuteTime": {
     "end_time": "2023-09-26T12:08:05.238275100Z",
     "start_time": "2023-09-26T12:08:05.204734600Z"
    }
   },
   "id": "6ba402a8cb789e1"
  },
  {
   "cell_type": "code",
   "execution_count": null,
   "outputs": [],
   "source": [
    "\"\"\"\n",
    "2., Hozz létre egy új osztályt, aminek a neve SecondClass, és definiáljon benne egy __init__ nevű függvényt, amely bead egy véletlenszám generátort a self.random adattagnak.\n",
    "    Osztály név: SecondClass\n",
    "    függvény név: __init__\n",
    "    bemenet: self, rand\n",
    "\"\"\""
   ],
   "metadata": {
    "collapsed": false
   },
   "id": "e34dccb1f71b37cd"
  },
  {
   "cell_type": "code",
   "execution_count": 74,
   "outputs": [
    {
     "name": "stdout",
     "output_type": "stream",
     "text": [
      "3\n"
     ]
    }
   ],
   "source": [
    "import random\n",
    "\n",
    "class SecondClass:\n",
    "    def __init__(self, rand):\n",
    "        self.random = rand\n",
    "\n",
    "# Példa használat:\n",
    "random_generator = random.Random()\n",
    "my_second_class = SecondClass(random_generator)\n",
    "print(my_second_class.random.randint(1, 10))  # Példa véletlenszám generálásra\n"
   ],
   "metadata": {
    "collapsed": false,
    "ExecuteTime": {
     "end_time": "2023-09-26T20:38:42.264513Z",
     "start_time": "2023-09-26T20:38:42.235545Z"
    }
   },
   "id": "3ee80f24a29d2303"
  },
  {
   "cell_type": "code",
   "execution_count": null,
   "outputs": [],
   "source": [],
   "metadata": {
    "collapsed": false
   },
   "id": "56451accf00c5828"
  },
  {
   "cell_type": "code",
   "execution_count": 84,
   "outputs": [
    {
     "name": "stdout",
     "output_type": "stream",
     "text": [
      "8.405359132251643\n",
      "0.1111111111111111\n",
      "0.4444444444444444\n",
      "0.25-percentilis érték: 2.0\n",
      "Generált véletlen szám: 3.557707193831535\n",
      "Eloszlás függvény átlaga: 3.0\n",
      "Eloszlás függvény mediánja: 3.0\n",
      "Cetrális momentumok és többlet csúcsosság: [3.0, 1.3333333333333333, 0, -1.2]\n"
     ]
    }
   ],
   "source": [
    "\"\"\"\n",
    "3., Hozzan létre egy új osztályt aminek a neve UniformDistribution. Definiáljon benne a __init__ nevű függvényt, amelynek bemenetként kap egy véletlenszám generátort, és az eloszlás alsó (a) és felső határát (b), amely értékeket adattagokba ment le.\n",
    "    Osztály név: UniformDistribution\n",
    "    függvény név: __init__\n",
    "    bemenet: self, rand, a, b\n",
    "\"\"\"\n",
    "\n",
    "class UniformDistribution:\n",
    "    def __init__(self, rand, a, b):\n",
    "        self.random_generator = rand\n",
    "        self.lower_bound = a\n",
    "        self.upper_bound = b\n",
    "\n",
    "# Példa használat:\n",
    "import random\n",
    "\n",
    "random_generator = random.Random()\n",
    "my_distribution = UniformDistribution(random_generator, 1, 10)\n",
    "\n",
    "# Egy véletlenszerű szám kiválasztása a megadott tartományból\n",
    "random_number = my_distribution.random_generator.uniform(my_distribution.lower_bound, my_distribution.upper_bound)\n",
    "print(random_number)\n",
    "\n",
    "\"\"\"\n",
    "4., Egészítse ki a UniformDistribution osztályt egy új függvénnyel, amely a és b pont közötti értékekhez a hozzájuk tartozó egyenletes eloszlás, eloszlás függvényében hozzárendelt értékét rendeli.\n",
    "    függvény név: pdf\n",
    "    bemenet: x\n",
    "    kimeneti típus: float\n",
    "    link: https://en.wikipedia.org/wiki/Continuous_uniform_distribution\n",
    "\"\"\"\n",
    "\n",
    "class UniformDistribution:\n",
    "    def __init__(self, rand, a, b):\n",
    "        self.random_generator = rand\n",
    "        self.lower_bound = a\n",
    "        self.upper_bound = b\n",
    "\n",
    "    def pdf(self, x):\n",
    "        \"\"\"\n",
    "        Számolja ki az egyenletes eloszlás (PDF) értékét az [a, b] tartományon a megadott x pontban.\n",
    "\n",
    "        Args:\n",
    "            x (float): A pont, amelyre a PDF értékét számoljuk.\n",
    "\n",
    "        Returns:\n",
    "            float: Az egyenletes eloszlás (PDF) értéke a megadott pontban.\n",
    "        \"\"\"\n",
    "        if x >= self.lower_bound and x <= self.upper_bound:\n",
    "            # Az egyenletes eloszlás minden ponton azonos értékű\n",
    "            pdf_value = 1 / (self.upper_bound - self.lower_bound)\n",
    "            return pdf_value\n",
    "        else:\n",
    "            return 0.0  # Az eloszlás értéke 0 az [a, b] tartományon kívül\n",
    "\n",
    "# Példa használat:\n",
    "import random\n",
    "\n",
    "random_generator = random.Random()\n",
    "my_distribution = UniformDistribution(random_generator, 1, 10)\n",
    "\n",
    "# Példa PDF érték számolásra egy adott pontban\n",
    "x = 5\n",
    "pdf_result = my_distribution.pdf(x)\n",
    "print(pdf_result)\n",
    "\n",
    "\"\"\"\n",
    "5., Egészítse ki a UniformDistribution osztályt egy új függvénnyel, amely megvalósítja az egyenletes eloszlás kumulatív eloszlás függvényét.\n",
    "    függvény név: cdf\n",
    "    bemenet: x\n",
    "    kimeneti típus: float\n",
    "    link: https://en.wikipedia.org/wiki/Continuous_uniform_distribution\n",
    "\"\"\"\n",
    "\n",
    "class UniformDistribution:\n",
    "    def __init__(self, rand, a, b):\n",
    "        self.random_generator = rand\n",
    "        self.lower_bound = a\n",
    "        self.upper_bound = b\n",
    "\n",
    "    def pdf(self, x):\n",
    "        \"\"\"\n",
    "        Számolja ki az egyenletes eloszlás (PDF) értékét az [a, b] tartományon a megadott x pontban.\n",
    "\n",
    "        Args:\n",
    "            x (float): A pont, amelyre a PDF értékét számoljuk.\n",
    "\n",
    "        Returns:\n",
    "            float: Az egyenletes eloszlás (PDF) értéke a megadott pontban.\n",
    "        \"\"\"\n",
    "        if x >= self.lower_bound and x <= self.upper_bound:\n",
    "            # Az egyenletes eloszlás minden ponton azonos értékű\n",
    "            pdf_value = 1 / (self.upper_bound - self.lower_bound)\n",
    "            return pdf_value\n",
    "        else:\n",
    "            return 0.0  # Az eloszlás értéke 0 az [a, b] tartományon kívül\n",
    "\n",
    "    def cdf(self, x):\n",
    "        \"\"\"\n",
    "        Számolja ki az egyenletes eloszlás (CDF) kumulatív eloszlás értékét az [a, b] tartományon a megadott x pontig.\n",
    "\n",
    "        Args:\n",
    "            x (float): A pont, amelyig a CDF értékét számoljuk.\n",
    "\n",
    "        Returns:\n",
    "            float: Az egyenletes eloszlás (CDF) kumulatív eloszlás értéke a megadott pontig.\n",
    "        \"\"\"\n",
    "        if x < self.lower_bound:\n",
    "            return 0.0\n",
    "        elif x >= self.upper_bound:\n",
    "            return 1.0\n",
    "        else:\n",
    "            cdf_value = (x - self.lower_bound) / (self.upper_bound - self.lower_bound)\n",
    "            return cdf_value\n",
    "\n",
    "# Példa használat:\n",
    "import random\n",
    "\n",
    "random_generator = random.Random()\n",
    "my_distribution = UniformDistribution(random_generator, 1, 10)\n",
    "\n",
    "# Példa CDF érték számolásra egy adott pontig\n",
    "x = 5\n",
    "cdf_result = my_distribution.cdf(x)\n",
    "print(cdf_result)\n",
    "\n",
    "\"\"\"\n",
    "6., Egészítse ki a UniformDistribution osztályt egy új függvénnyel, amely implementálja az egyenletes eloszlás inverz kumulatív eloszlás függvényét. (percent-point function)\n",
    "    függvény név: ppf\n",
    "    bemenet: p\n",
    "    kimeneti típus: float\n",
    "    link: https://en.wikipedia.org/wiki/Continuous_uniform_distribution\n",
    "\"\"\"\n",
    "\n",
    "class UniformDistribution:\n",
    "    def __init__(self, rand, a, b):\n",
    "        self.rand = rand\n",
    "        self.a = a\n",
    "        self.b = b\n",
    "\n",
    "    def pdf(self, x):\n",
    "        if x < self.a or x > self.b:\n",
    "            return 0\n",
    "        return 1 / (self.b - self.a)\n",
    "\n",
    "    def cdf(self, x):\n",
    "        if x < self.a:\n",
    "            return 0\n",
    "        elif x > self.b:\n",
    "            return 1\n",
    "        return (x - self.a) / (self.b - self.a)\n",
    "\n",
    "    def ppf(self, p):\n",
    "        if p < 0 or p > 1:\n",
    "            raise ValueError(\"Az 'p' értéknek [0, 1] tartományban kell lennie.\")\n",
    "        return self.a + p * (self.b - self.a)\n",
    "\n",
    "# Példa használat\n",
    "rand = random.Random(42)  # Random seed beállítása\n",
    "ud = UniformDistribution(rand, 1, 5)\n",
    "p = 0.25  # Példa p érték\n",
    "x = ud.ppf(p)\n",
    "print(f\"{p}-percentilis érték: {x}\")\n",
    "\n",
    "\"\"\"\n",
    "7., Egészítse ki a UniformDistribution osztályt egy új függvénnyel, amely az osztály létrehozásánál megadott paraméterek mellett, egyenletes eloszlású véletlen számokat generál minden meghívásnál.\n",
    "    függvény név: gen_random\n",
    "    bemenet: None\n",
    "    kimeneti típus: float\n",
    "    link: https://en.wikipedia.org/wiki/Continuous_uniform_distribution\n",
    "\n",
    "\"\"\"\n",
    "\n",
    "class UniformDistribution:\n",
    "    def __init__(self, rand, a, b):\n",
    "        self.rand = rand\n",
    "        self.a = a\n",
    "        self.b = b\n",
    "\n",
    "    def pdf(self, x):\n",
    "        if x < self.a or x > self.b:\n",
    "            return 0\n",
    "        return 1 / (self.b - self.a)\n",
    "\n",
    "    def cdf(self, x):\n",
    "        if x < self.a:\n",
    "            return 0\n",
    "        elif x > self.b:\n",
    "            return 1\n",
    "        return (x - self.a) / (self.b - self.a)\n",
    "\n",
    "    def ppf(self, p):\n",
    "        if p < 0 or p > 1:\n",
    "            raise ValueError(\"Az 'p' értéknek [0, 1] tartományban kell lennie.\")\n",
    "        return self.a + p * (self.b - self.a)\n",
    "\n",
    "    def gen_random(self):\n",
    "        return self.rand.uniform(self.a, self.b)\n",
    "\n",
    "# Példa használat\n",
    "rand = random.Random(42)  # Random seed beállítása\n",
    "ud = UniformDistribution(rand, 1, 5)\n",
    "random_value = ud.gen_random()\n",
    "print(\"Generált véletlen szám:\", random_value)\n",
    "\n",
    "\"\"\"\n",
    "8., Egészítse ki a UniformDistribution osztályt egy új függvénnyel, amely visszaadja az eloszlás függvény átlagát.  Ha az eloszlásnak nincsen ilyen értéke, akkor return helyett hívja meg a raise Exception(\"Moment undefined\") parancsot.\n",
    "    függvény név: mean\n",
    "    bemenet: None\n",
    "    kimeneti típus: float\n",
    "    link: https://en.wikipedia.org/wiki/Continuous_uniform_distribution\n",
    "\"\"\"\n",
    "\n",
    "class UniformDistribution:\n",
    "    def __init__(self, rand, a, b):\n",
    "        self.rand = rand\n",
    "        self.a = a\n",
    "        self.b = b\n",
    "\n",
    "    def pdf(self, x):\n",
    "        if x < self.a or x > self.b:\n",
    "            return 0\n",
    "        return 1 / (self.b - self.a)\n",
    "\n",
    "    def cdf(self, x):\n",
    "        if x < self.a:\n",
    "            return 0\n",
    "        elif x > self.b:\n",
    "            return 1\n",
    "        return (x - self.a) / (self.b - self.a)\n",
    "\n",
    "    def ppf(self, p):\n",
    "        if p < 0 or p > 1:\n",
    "            raise ValueError(\"Az 'p' értéknek [0, 1] tartományban kell lennie.\")\n",
    "        return self.a + p * (self.b - self.a)\n",
    "\n",
    "    def gen_random(self):\n",
    "        return self.rand.uniform(self.a, self.b)\n",
    "\n",
    "    def mean(self):\n",
    "        if self.a == self.b:\n",
    "            raise Exception(\"Moment undefined\")\n",
    "        return (self.a + self.b) / 2.0\n",
    "\n",
    "# Példa használat\n",
    "rand = random.Random(42)  # Random seed beállítása\n",
    "ud = UniformDistribution(rand, 1, 5)\n",
    "mean_value = ud.mean()\n",
    "print(\"Eloszlás függvény átlaga:\", mean_value)\n",
    "\n",
    "\"\"\"\n",
    "9., Egészítse ki a UniformDistribution osztályt egy új függvénnyel, amely visszaadja az eloszlás függvény mediánját.\n",
    "    függvény név: median\n",
    "    bemenet: None\n",
    "    kimeneti típus: float\n",
    "    link: https://en.wikipedia.org/wiki/Continuous_uniform_distribution\n",
    "\"\"\"\n",
    "\n",
    "class UniformDistribution:\n",
    "    def __init__(self, rand, a, b):\n",
    "        self.rand = rand\n",
    "        self.a = a\n",
    "        self.b = b\n",
    "\n",
    "    def pdf(self, x):\n",
    "        if x < self.a or x > self.b:\n",
    "            return 0\n",
    "        return 1 / (self.b - self.a)\n",
    "\n",
    "    def cdf(self, x):\n",
    "        if x < self.a:\n",
    "            return 0\n",
    "        elif x > self.b:\n",
    "            return 1\n",
    "        return (x - self.a) / (self.b - self.a)\n",
    "\n",
    "    def ppf(self, p):\n",
    "        if p < 0 or p > 1:\n",
    "            raise ValueError(\"Az 'p' értéknek [0, 1] tartományban kell lennie.\")\n",
    "        return self.a + p * (self.b - self.a)\n",
    "\n",
    "    def gen_random(self):\n",
    "        return self.rand.uniform(self.a, self.b)\n",
    "\n",
    "    def mean(self):\n",
    "        if self.a == self.b:\n",
    "            raise Exception(\"Moment undefined\")\n",
    "        return (self.a + self.b) / 2.0\n",
    "\n",
    "    def median(self):\n",
    "        return (self.a + self.b) / 2.0\n",
    "\n",
    "# Példa használat\n",
    "rand = random.Random(42)  # Random seed beállítása\n",
    "ud = UniformDistribution(rand, 1, 5)\n",
    "median_value = ud.median()\n",
    "print(\"Eloszlás függvény mediánja:\", median_value)\n",
    "\n",
    "\"\"\"\n",
    "10., Egészítse ki a UniformDistribution osztályt egy új függvénnyel, amely visszaadja az eloszlás függvény varianciáját.  Ha az eloszlásnak nincsen ilyen értéke, akkor return helyett hívja meg a raise Exception(\"Moment undefined\") parancsot.\n",
    "    függvény név: variance\n",
    "    bemenet: None\n",
    "    kimeneti típus: float\n",
    "    link: https://en.wikipedia.org/wiki/Continuous_uniform_distribution\n",
    "\"\"\"\n",
    "\"\"\"\n",
    "11., Egészítse ki a UniformDistribution osztályt egy új függvénnyel, amely visszaadja az eloszlás függvény ferdeségét.  Ha az eloszlásnak nincsen ilyen értéke, akkor return helyett hívja meg a raise Exception(\"Moment undefined\") parancsot.\n",
    "    függvény név: skewness\n",
    "    bemenet: None\n",
    "    kimeneti típus: float\n",
    "    link: https://en.wikipedia.org/wiki/Continuous_uniform_distribution\n",
    "\"\"\"\n",
    "\"\"\"\n",
    "12., Egészítse ki a UniformDistribution osztályt egy új függvénnyel, amely visszaadja az eloszlás függvény többlet csúcsosságát.  Ha az eloszlásnak nincsen ilyen értéke, akkor return helyett hívja meg a raise Exception(\"Moment undefined\") parancsot.\n",
    "    függvény név: ex_kurtosis\n",
    "    bemenet: None\n",
    "    kimeneti típus: float\n",
    "    link: https://en.wikipedia.org/wiki/Continuous_uniform_distribution\n",
    "\"\"\"\n",
    "\"\"\"\n",
    "13., Egészítse ki a UniformDistribution osztályt egy új függvénnyel, amely visszaadja az eloszlás függvény első 3 cetrális momentumát és a többlet csúcsosságot.  Ha az eloszlásnak nincsenek ilyen értékei, akkor return helyett hívja meg a raise Exception(\"Moments undefined\") parancsot.\n",
    "    függvény név: mvsk\n",
    "    bemenet: None\n",
    "    kimeneti típus: List\n",
    "    link: https://en.wikipedia.org/wiki/Continuous_uniform_distribution\n",
    "\"\"\"\n",
    "\n",
    "class UniformDistribution:\n",
    "    def __init__(self, rand, a, b):\n",
    "        self.rand = rand\n",
    "        self.a = a\n",
    "        self.b = b\n",
    "\n",
    "    def pdf(self, x):\n",
    "        if x < self.a or x > self.b:\n",
    "            return 0\n",
    "        return 1 / (self.b - self.a)\n",
    "\n",
    "    def cdf(self, x):\n",
    "        if x < self.a:\n",
    "            return 0\n",
    "        elif x > self.b:\n",
    "            return 1\n",
    "        return (x - self.a) / (self.b - self.a)\n",
    "\n",
    "    def ppf(self, p):\n",
    "        if p < 0 or p > 1:\n",
    "            raise ValueError(\"Az 'p' értéknek [0, 1] tartományban kell lennie.\")\n",
    "        return self.a + p * (self.b - self.a)\n",
    "\n",
    "    def gen_random(self):\n",
    "        return self.rand.uniform(self.a, self.b)\n",
    "\n",
    "    def mean(self):\n",
    "        if self.a == self.b:\n",
    "            raise Exception(\"Moment undefined\")\n",
    "        return (self.a + self.b) / 2.0\n",
    "\n",
    "    def median(self):\n",
    "        return (self.a + self.b) / 2.0\n",
    "\n",
    "    def mvsk(self):\n",
    "        if self.a == self.b:\n",
    "            raise Exception(\"Moments undefined\")\n",
    "        \n",
    "        mean = (self.a + self.b) / 2.0\n",
    "        variance = ((self.b - self.a) ** 2) / 12.0\n",
    "        skewness = 0\n",
    "        kurtosis = -6 / 5\n",
    "\n",
    "        return [mean, variance, skewness, kurtosis]\n",
    "\n",
    "# Példa használat\n",
    "rand = random.Random(42)  # Random seed beállítása\n",
    "ud = UniformDistribution(rand, 1, 5)\n",
    "moments = ud.mvsk()\n",
    "print(\"Cetrális momentumok és többlet csúcsosság:\", moments)\n"
   ],
   "metadata": {
    "collapsed": false,
    "ExecuteTime": {
     "end_time": "2023-09-27T15:52:10.103169300Z",
     "start_time": "2023-09-27T15:52:10.033615800Z"
    }
   },
   "id": "16a24cd8bbf27601"
  },
  {
   "cell_type": "code",
   "execution_count": null,
   "outputs": [],
   "source": [],
   "metadata": {
    "collapsed": false
   },
   "id": "bd08e6c93ec9bf3a"
  },
  {
   "cell_type": "code",
   "execution_count": null,
   "outputs": [],
   "source": [],
   "metadata": {
    "collapsed": false
   },
   "id": "316f42ca481d150b"
  },
  {
   "cell_type": "code",
   "execution_count": 91,
   "outputs": [
    {
     "ename": "IndentationError",
     "evalue": "expected an indented block (788660023.py, line 73)",
     "output_type": "error",
     "traceback": [
      "\u001B[1;36m  File \u001B[1;32m\"C:\\Users\\kissr\\AppData\\Local\\Temp\\ipykernel_19348\\788660023.py\"\u001B[1;36m, line \u001B[1;32m73\u001B[0m\n\u001B[1;33m    if self.scale <= 0:\u001B[0m\n\u001B[1;37m     ^\u001B[0m\n\u001B[1;31mIndentationError\u001B[0m\u001B[1;31m:\u001B[0m expected an indented block\n"
     ]
    }
   ],
   "source": [
    "\"\"\"\n",
    "14., Hozzan létre egy új osztályt aminek a neve NormalDistribution. Definiáljon benne a __init__ nevű függvényt, amelynek bemenetként kap egy véletlenszám generátort, és az eloszlás várható értékét (location) és varianciáját (scale), amely értékeket adattagokba ment le.\n",
    "    Osztály név: NormalDistribution\n",
    "    függvény név: __init__\n",
    "    bemenet: self, rand, loc, scale\n",
    "\"\"\"\n",
    "class NormalDistribution:\n",
    "    def __init__(self, rand, loc, scale):\n",
    "        self.rand = rand\n",
    "        self.loc = loc\n",
    "        self.scale = scale\n",
    "\n",
    "    # További függvények és metódusokat lehet hozzáadni az osztályhoz\n",
    "\n",
    "\"\"\"\n",
    "15., Egészítse ki a NormalDistribution osztályt egy új függvénnyel, amely loc várható értékű és scale varianciájú normális eloszlás eloszlásfüggvényéből rendel valószínűségi értéket a bemeneti x valós számhoz.\n",
    "    függvény név: pdf\n",
    "    bemenet: x\n",
    "    kimeneti típus: float\n",
    "    link: https://en.wikipedia.org/wiki/Normal_distribution\n",
    "\"\"\"\n",
    "\n",
    "import math\n",
    "\n",
    "class NormalDistribution:\n",
    "    def __init__(self, rand, loc, scale):\n",
    "        self.rand = rand\n",
    "        self.loc = loc\n",
    "        self.scale = scale\n",
    "\n",
    "    def pdf(self, x):\n",
    "        if self.scale <= 0:\n",
    "            raise ValueError(\"A szórásnak pozitívnak kell lennie.\")\n",
    "        \n",
    "        exponent = -((x - self.loc) ** 2) / (2 * self.scale ** 2)\n",
    "        normalization = 1 / (self.scale * math.sqrt(2 * math.pi))\n",
    "        probability_density = normalization * math.exp(exponent)\n",
    "        return probability_density\n",
    "\n",
    "# Példa használat\n",
    "rand = random.Random(42)  # Random seed beállítása\n",
    "nd = NormalDistribution(rand, 0, 1)  # Példa normális eloszlás: várható érték 0, szórás 1\n",
    "x = 1.5  # Példa bemeneti érték\n",
    "pdf_value = nd.pdf(x)\n",
    "print(\"Sűrűségfüggvény értéke {}: {}\".format(x, pdf_value))\n",
    "\n",
    "\"\"\"\n",
    "16., Egészítse ki a NormalDistribution osztályt egy új függvénnyel, amely megvalósítja az eloszlás kumulatív eloszlás függvényét.\n",
    "    függvény név: cdf\n",
    "    bemenet: x\n",
    "    kimeneti típus: float\n",
    "    link: https://en.wikipedia.org/wiki/Normal_distribution\n",
    "\"\"\"\n",
    "\n",
    "import math\n",
    "\n",
    "class NormalDistribution:\n",
    "    def __init__(self, rand, loc, scale):\n",
    "        self.rand = rand\n",
    "        self.loc = loc\n",
    "        self.scale = scale\n",
    "\n",
    "    def pdf(self, x):\n",
    "        if self.scale <= 0:\n",
    "            raise ValueError(\"A szórásnak pozitívnak kell lennie.\")\n",
    "        \n",
    "        exponent = -((x - self.loc) ** 2) / (2 * self.scale ** 2)\n",
    "        normalization = 1 / (self.scale * math.sqrt(2 * math.pi))\n",
    "        probability_density = normalization * math.exp(exponent)\n",
    "        return probability_density\n",
    "    \n",
    "        def cdf(self, x):\n",
    "        if self.scale <= 0:\n",
    "            raise ValueError(\"A szórásnak pozitívnak kell lennie.\")\n",
    "        \n",
    "        z = (x - self.loc) / (self.scale * math.sqrt(2))\n",
    "        cumulative_probability = 0.5 * (1 + math.erf(z))\n",
    "        return cumulative_probability\n",
    "\n",
    "# Példa használat\n",
    "rand = random.Random(42)  # Random seed beállítása\n",
    "nd = NormalDistribution(rand, 0, 1)  # Példa normális eloszlás: várható érték 0, szórás 1\n",
    "x = 1.5  # Példa bemeneti érték\n",
    "cdf_value = nd.cdf(x)\n",
    "print(\"Kumulatív eloszlás értéke {}: {}\".format(x, cdf_value))\n",
    "\n",
    "\n",
    "\"\"\"\n",
    "17., Egészítse ki a NormalDistribution osztályt egy új függvénnyel, amely implementálja az eloszlás inverz kumulatív eloszlás függvényét\n",
    "    függvény név: ppf\n",
    "    bemenet: p\n",
    "    kimeneti típus: float\n",
    "    link: https://en.wikipedia.org/wiki/Normal_distribution\n",
    "\"\"\"\n",
    "\n",
    "import math\n",
    "\n",
    "class NormalDistribution:\n",
    "    def __init__(self, rand, loc, scale):\n",
    "        self.rand = rand\n",
    "        self.loc = loc\n",
    "        self.scale = scale\n",
    "\n",
    "    def ppf(self, p):\n",
    "        if self.scale <= 0:\n",
    "            raise ValueError(\"A szórásnak pozitívnak kell lennie.\")\n",
    "        if p < 0 or p > 1:\n",
    "            raise ValueError(\"A valószínűségnek 0 és 1 között kell lennie.\")\n",
    "        \n",
    "        z = math.erfinv(2 * p - 1) * math.sqrt(2)\n",
    "        x = z * self.scale + self.loc\n",
    "        return x\n",
    "\n",
    "# Példa használat\n",
    "rand = random.Random(42)  # Random seed beállítása\n",
    "nd = NormalDistribution(rand, 0, 1)  # Példa normális eloszlás: várható érték 0, szórás 1\n",
    "p = 0.25  # Példa valószínűségi érték\n",
    "ppf_value = nd.ppf(p)\n",
    "print(\"Inverz kumulatív eloszlás értéke {}: {}\".format(p, ppf_value))\n",
    "\n",
    "\"\"\"\n",
    "18., Egészítse ki a NormalDistribution osztályt egy új függvénnyel, amely az osztály létrehozásánál megadott paraméterek mellett, normális eloszlású véletlen számokat generál minden meghívásnál\n",
    "    függvény név: gen_random\n",
    "    bemenet: None\n",
    "    kimeneti típus: float\n",
    "    link: https://en.wikipedia.org/wiki/Normal_distribution\n",
    "\n",
    "\"\"\"\n",
    "\n",
    "import random\n",
    "\n",
    "class NormalDistribution:\n",
    "    def __init__(self, loc, scale):\n",
    "        self.loc = loc\n",
    "        self.scale = scale\n",
    "\n",
    "    def gen_random(self):\n",
    "        if self.scale <= 0:\n",
    "            raise ValueError(\"A szórásnak pozitívnak kell lennie.\")\n",
    "        \n",
    "        z = random.normalvariate(0, 1)\n",
    "        x = z * self.scale + self.loc\n",
    "        return x\n",
    "\n",
    "# Példa használat\n",
    "nd = NormalDistribution(0, 1)  # Példa normális eloszlás: várható érték 0, szórás 1\n",
    "random_value = nd.gen_random()\n",
    "print(\"Véletlen szám normális eloszlásból:\", random_value)\n",
    "\n",
    "\"\"\"\n",
    "19., Egészítse ki a NormalDistribution osztályt egy új függvénnyel, amely visszaadja az eloszlás függvény átlagát.  Ha az eloszlásnak nincsen ilyen értéke, akkor return helyett hívja meg a raise Exception(\"Moment undefined\") parancsot.\n",
    "    függvény név: mean\n",
    "    bemenet: None\n",
    "    kimeneti típus: float\n",
    "    link: https://en.wikipedia.org/wiki/Normal_distribution\n",
    "\"\"\"\n",
    "\n",
    "class NormalDistribution:\n",
    "    def __init__(self, loc, scale):\n",
    "        self.loc = loc\n",
    "        self.scale = scale\n",
    "\n",
    "    def mean(self):\n",
    "        return self.loc\n",
    "\n",
    "# Példa használat\n",
    "nd = NormalDistribution(0, 1)  # Példa normális eloszlás: várható érték 0, szórás 1\n",
    "mean_value = nd.mean()\n",
    "print(\"Eloszlás átlaga (várható érték):\", mean_value)\n",
    "\n",
    "\"\"\"\n",
    "20., Egészítse ki a NormalDistribution osztályt egy új függvénnyel, amely visszaadja az eloszlás függvény mediánját\n",
    "    függvény név: median\n",
    "    bemenet: None\n",
    "    kimeneti típus: float\n",
    "    link: https://en.wikipedia.org/wiki/Normal_distribution\n",
    "\"\"\"\n",
    "\n",
    "class NormalDistribution:\n",
    "    def __init__(self, loc, scale):\n",
    "        self.loc = loc\n",
    "        self.scale = scale\n",
    "\n",
    "    def median(self):\n",
    "        return self.loc\n",
    "\n",
    "# Példa használat\n",
    "nd = NormalDistribution(0, 1)  # Példa normális eloszlás: várható érték 0, szórás 1\n",
    "median_value = nd.median()\n",
    "print(\"Eloszlás mediánja:\", median_value)\n",
    "\n",
    "\"\"\"\n",
    "21., Egészítse ki a NormalDistribution osztályt egy új függvénnyel, amely visszaadja az eloszlás függvény varianciáját.  Ha az eloszlásnak nincsen ilyen értéke, akkor return helyett hívja meg a raise Exception(\"Moment undefined\") parancsot.\n",
    "    függvény név: variance\n",
    "    bemenet: None\n",
    "    kimeneti típus: float\n",
    "    link: https://en.wikipedia.org/wiki/Normal_distribution\n",
    "\"\"\"\n",
    "\n",
    "class NormalDistribution:\n",
    "    def __init__(self, loc, scale):\n",
    "        self.loc = loc\n",
    "        self.scale = scale\n",
    "\n",
    "    def variance(self):\n",
    "        if self.scale is None:\n",
    "            raise Exception(\"Moment undefined\")\n",
    "        return self.scale ** 2\n",
    "\n",
    "# Példa használat\n",
    "nd = NormalDistribution(0, 1)  # Példa normális eloszlás: várható érték 0, szórás 1\n",
    "variance_value = nd.variance()\n",
    "print(\"Eloszlás varianciája:\", variance_value)\n",
    "\n",
    "\"\"\"\n",
    "22., Egészítse ki a NormalDistribution osztályt egy új függvénnyel, amely visszaadja az eloszlás függvény ferdeségét.  Ha az eloszlásnak nincsen ilyen értéke, akkor return helyett hívja meg a raise Exception(\"Moment undefined\") parancsot.\n",
    "    függvény név: skewness\n",
    "    bemenet: None\n",
    "    kimeneti típus: float\n",
    "    link: https://en.wikipedia.org/wiki/Normal_distribution\n",
    "\"\"\"\n",
    "\n",
    "class NormalDistribution:\n",
    "    def __init__(self, loc, scale):\n",
    "        self.loc = loc\n",
    "        self.scale = scale\n",
    "\n",
    "    def skewness(self):\n",
    "        return 0  # A normális eloszlás ferdesége mindig 0\n",
    "\n",
    "# Példa használat\n",
    "nd = NormalDistribution(0, 1)  # Példa normális eloszlás: várható érték 0, szórás 1\n",
    "skewness_value = nd.skewness()\n",
    "print(\"Eloszlás ferdesége:\", skewness_value)\n",
    "\n",
    "\n",
    "\"\"\"\n",
    "23., Egészítse ki a NormalDistribution osztályt egy új függvénnyel, amely visszaadja az eloszlás függvény többlet csúcsosságát.  Ha az eloszlásnak nincsen ilyen értéke, akkor return helyett hívja meg a raise Exception(\"Moment undefined\") parancsot.\n",
    "    függvény név: ex_kurtosis\n",
    "    bemenet: None\n",
    "    kimeneti típus: float\n",
    "    link: https://en.wikipedia.org/wiki/Normal_distribution\n",
    "\"\"\"\n",
    "class NormalDistribution:\n",
    "    def __init__(self, loc, scale):\n",
    "        self.loc = loc\n",
    "        self.scale = scale\n",
    "\n",
    "    def ex_kurtosis(self):\n",
    "        return 0  # A normális eloszlás többlet csúcsossága mindig 0\n",
    "\n",
    "# Példa használat\n",
    "nd = NormalDistribution(0, 1)  # Példa normális eloszlás: várható érték 0, szórás 1\n",
    "kurtosis_value = nd.ex_kurtosis()\n",
    "print(\"Eloszlás többlet csúcsossága:\", kurtosis_value)\n",
    "\n",
    "\"\"\"\n",
    "24., Egészítse ki a NormalDistribution osztályt egy új függvénnyel, amely visszaadja az eloszlás függvény első 3 cetrális momentumát és a többlet csúcsosságot.  Ha az eloszlásnak nincsenek ilyen értékei, akkor return helyett hívja meg a raise Exception(\"Moment undefined\") parancsot.\n",
    "    függvény név: mvsk\n",
    "    bemenet: None\n",
    "    kimeneti típus: List\n",
    "    link: https://en.wikipedia.org/wiki/Normal_distribution\n",
    "\"\"\"\n",
    "\n",
    "import math\n",
    "\n",
    "class NormalDistribution:\n",
    "    def __init__(self, loc, scale):\n",
    "        self.loc = loc\n",
    "        self.scale = scale\n",
    "\n",
    "    def mvsk(self):\n",
    "        mean = self.loc\n",
    "        variance = self.scale ** 2\n",
    "        std_dev = math.sqrt(variance)\n",
    "        skewness = 0  # Normális eloszlásnál a ferdeség értéke mindig 0\n",
    "        kurtosis = 0  # Normális eloszlásnál a többlet csúcsosság értéke mindig 0\n",
    "\n",
    "        return [mean, std_dev, skewness, kurtosis]\n",
    "\n",
    "# Példa használat\n",
    "nd = NormalDistribution(0, 1)  # Példa normális eloszlás: várható érték 0, szórás 1\n",
    "moments = nd.mvsk()\n",
    "print(\"Eloszlás cetrális momentumai és többlet csúcsossága:\", moments)\n"
   ],
   "metadata": {
    "collapsed": false,
    "ExecuteTime": {
     "end_time": "2023-09-27T16:00:04.361191500Z",
     "start_time": "2023-09-27T16:00:04.256834500Z"
    }
   },
   "id": "982e36a2889ff566"
  },
  {
   "cell_type": "code",
   "execution_count": null,
   "outputs": [],
   "source": [],
   "metadata": {
    "collapsed": false
   },
   "id": "458acbe6ee93cd47"
  },
  {
   "cell_type": "code",
   "execution_count": null,
   "outputs": [],
   "source": [],
   "metadata": {
    "collapsed": false
   },
   "id": "33b2b698ad872fee"
  },
  {
   "cell_type": "code",
   "execution_count": null,
   "outputs": [],
   "source": [
    "\"\"\"\n",
    "25., Hozzan létre egy új osztályt aminek a neve CauchyDistribution. Definiáljon benne a __init__ nevű függvényt, amelynek bemenetként kap egy véletlenszám generátort, az x0 (location) és gamma (scale) értékeket, amelyeket adattagokba ment le.\n",
    "    Osztály név: CauchyDistribution\n",
    "    függvény név: __init__\n",
    "    bemenet: self, rand, loc, scale\n",
    "\"\"\"\n",
    "\n",
    "\"\"\"\n",
    "26., Egészítse ki a CauchyDistribution osztályt egy új függvénnyel, amely a bemeneti x értékhez hozzárendeli annak valószínűségi értékét\n",
    "    függvény név: pdf\n",
    "    bemenet: x\n",
    "    kimeneti típus: float\n",
    "    link: https://en.wikipedia.org/wiki/Cauchy_distribution\n",
    "\"\"\"\n",
    "\n",
    "\"\"\"\n",
    "27., Egészítse ki a CauchyDistribution osztályt egy új függvénnyel, amely megvalósítja az eloszlás kumulatív eloszlás függvényét.\n",
    "    függvény név: cdf\n",
    "    bemenet: x\n",
    "    kimeneti típus: float\n",
    "    link: https://en.wikipedia.org/wiki/Cauchy_distribution\n",
    "\"\"\"\n",
    "\n",
    "\"\"\"\n",
    "28., Egészítse ki a CauchyDistribution osztályt egy új függvénnyel, amely implementálja az eloszlás inverz kumulatív eloszlás függvényét\n",
    "    függvény név: ppf\n",
    "    bemenet: p\n",
    "    kimeneti típus: float\n",
    "    link: https://en.wikipedia.org/wiki/Cauchy_distribution\n",
    "\"\"\"\n",
    "\n",
    "\"\"\"\n",
    "29., Egészítse ki a CauchyDistribution osztályt egy új függvénnyel, amely az osztály létrehozásánál megadott paraméterek mellett, cauchy eloszlású véletlen számokat generál minden meghívásnál\n",
    "    függvény név: gen_random\n",
    "    bemenet: None\n",
    "    kimeneti típus: float\n",
    "    link: https://en.wikipedia.org/wiki/Cauchy_distribution\n",
    "\"\"\"\n",
    "\n",
    "\"\"\"\n",
    "30., Egészítse ki a CauchyDistribution osztályt egy új függvénnyel, amely visszaadja az eloszlás függvény átlagát. Ha az eloszlásnak nincsen ilyen értéke, akkor return helyett hívja meg a raise Exception(\"Moment undefined\") parancsot.\n",
    "    függvény név: mean\n",
    "    bemenet: None\n",
    "    kimeneti típus: float\n",
    "    link: https://en.wikipedia.org/wiki/Cauchy_distribution\n",
    "\"\"\"\n",
    "\n",
    "\"\"\"\n",
    "31., Egészítse ki a CauchyDistribution osztályt egy új függvénnyel, amely visszaadja az eloszlás függvény mediánját.\n",
    "    függvény név: median\n",
    "    bemenet: None\n",
    "    kimeneti típus: float\n",
    "    link: https://en.wikipedia.org/wiki/Cauchy_distribution\n",
    "\"\"\"\n",
    "\n",
    "\"\"\"\n",
    "32., Egészítse ki a CauchyDistribution osztályt egy új függvénnyel, amely visszaadja az eloszlás függvény varianciáját.  Ha az eloszlásnak nincsen ilyen értéke, akkor return helyett hívja meg a raise Exception(\"Moment undefined\") parancsot.\n",
    "    függvény név: variance\n",
    "    bemenet: None\n",
    "    kimeneti típus: float\n",
    "    link: https://en.wikipedia.org/wiki/Cauchy_distribution\n",
    "\"\"\"\n",
    "\n",
    "\"\"\"\n",
    "33., Egészítse ki a CauchyDistribution osztályt egy új függvénnyel, amely visszaadja az eloszlás függvény ferdeségét.  Ha az eloszlásnak nincsen ilyen értéke, akkor return helyett hívja meg a raise Exception(\"Moment undefined\") parancsot.\n",
    "    függvény név: skewness\n",
    "    bemenet: None\n",
    "    kimeneti típus: float\n",
    "    link: https://en.wikipedia.org/wiki/Cauchy_distribution\n",
    "\"\"\"\n",
    "\n",
    "\"\"\"\n",
    "34., Egészítse ki a CauchyDistribution osztályt egy új függvénnyel, amely visszaadja az eloszlás függvény többlet csúcsosságát.  Ha az eloszlásnak nincsen ilyen értéke, akkor return helyett hívja meg a raise Exception(\"Moment undefined\") parancsot.\n",
    "    függvény név: ex_kurtosis\n",
    "    bemenet: None\n",
    "    kimeneti típus: float\n",
    "    link: https://en.wikipedia.org/wiki/Cauchy_distribution\n",
    "\"\"\"\n",
    "\n",
    "\"\"\"\n",
    "35., Egészítse ki a CauchyDistribution osztályt egy új függvénnyel, amely visszaadja az eloszlás függvény első 3 cetrális momentumát és a többlet csúcsosságot.  Ha az eloszlásnak nincsenek ilyen értékei, akkor return helyett hívja meg a raise Exception(\"Moments undefined\") parancsot.\n",
    "    függvény név: mvsk\n",
    "    bemenet: None\n",
    "    kimeneti típus: List\n",
    "    link: https://en.wikipedia.org/wiki/Cauchy_distribution\n",
    "\"\"\""
   ],
   "metadata": {
    "collapsed": false
   },
   "id": "4cf53dd0ca6be7bf"
  },
  {
   "cell_type": "code",
   "execution_count": null,
   "outputs": [],
   "source": [],
   "metadata": {
    "collapsed": false
   },
   "id": "e945447dfe21a612"
  },
  {
   "cell_type": "code",
   "execution_count": null,
   "outputs": [],
   "source": [],
   "metadata": {
    "collapsed": false
   },
   "id": "435dfed4191c324"
  }
 ],
 "metadata": {
  "kernelspec": {
   "display_name": "Python 3",
   "language": "python",
   "name": "python3"
  },
  "language_info": {
   "codemirror_mode": {
    "name": "ipython",
    "version": 2
   },
   "file_extension": ".py",
   "mimetype": "text/x-python",
   "name": "python",
   "nbconvert_exporter": "python",
   "pygments_lexer": "ipython2",
   "version": "2.7.6"
  }
 },
 "nbformat": 4,
 "nbformat_minor": 5
}
